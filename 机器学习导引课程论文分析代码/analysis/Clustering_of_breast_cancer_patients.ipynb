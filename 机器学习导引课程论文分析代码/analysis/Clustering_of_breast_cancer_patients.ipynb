{
 "cells": [
  {
   "cell_type": "code",
   "execution_count": 1,
   "metadata": {
    "ExecuteTime": {
     "end_time": "2021-11-15T13:07:11.133472Z",
     "start_time": "2021-11-15T13:07:09.093010Z"
    }
   },
   "outputs": [],
   "source": [
    "import shap\n",
    "import sklearn\n",
    "import numpy as np\n",
    "import pandas as pd \n",
    "import seaborn as sns\n",
    "import matplotlib.pyplot as plt"
   ]
  },
  {
   "cell_type": "code",
   "execution_count": 2,
   "metadata": {
    "ExecuteTime": {
     "end_time": "2021-11-15T13:07:16.096563Z",
     "start_time": "2021-11-15T13:07:16.082565Z"
    }
   },
   "outputs": [
    {
     "data": {
      "text/plain": [
       "dict_keys(['data', 'target', 'frame', 'target_names', 'DESCR', 'feature_names', 'filename'])"
      ]
     },
     "execution_count": 2,
     "metadata": {},
     "output_type": "execute_result"
    }
   ],
   "source": [
    "# 加载sklearn内置数据并查看其内容\n",
    "breast_cancer = sklearn.datasets.load_breast_cancer()\n",
    "breast_cancer.keys()"
   ]
  },
  {
   "cell_type": "code",
   "execution_count": 3,
   "metadata": {
    "ExecuteTime": {
     "end_time": "2021-11-15T13:07:24.265540Z",
     "start_time": "2021-11-15T13:07:24.256540Z"
    }
   },
   "outputs": [],
   "source": [
    "# 构建建模所需数据集\n",
    "breast_cancer_df = pd.DataFrame(dict(zip(breast_cancer.feature_names,breast_cancer.data.transpose(1,0))))\n",
    "breast_cancer_df['type'] = list(breast_cancer.target)"
   ]
  },
  {
   "cell_type": "code",
   "execution_count": 4,
   "metadata": {
    "ExecuteTime": {
     "end_time": "2021-11-15T13:07:27.028978Z",
     "start_time": "2021-11-15T13:07:26.991936Z"
    },
    "scrolled": false
   },
   "outputs": [
    {
     "data": {
      "text/html": [
       "<div>\n",
       "<style scoped>\n",
       "    .dataframe tbody tr th:only-of-type {\n",
       "        vertical-align: middle;\n",
       "    }\n",
       "\n",
       "    .dataframe tbody tr th {\n",
       "        vertical-align: top;\n",
       "    }\n",
       "\n",
       "    .dataframe thead th {\n",
       "        text-align: right;\n",
       "    }\n",
       "</style>\n",
       "<table border=\"1\" class=\"dataframe\">\n",
       "  <thead>\n",
       "    <tr style=\"text-align: right;\">\n",
       "      <th></th>\n",
       "      <th>mean radius</th>\n",
       "      <th>mean texture</th>\n",
       "      <th>mean perimeter</th>\n",
       "      <th>mean area</th>\n",
       "      <th>mean smoothness</th>\n",
       "      <th>mean compactness</th>\n",
       "      <th>mean concavity</th>\n",
       "      <th>mean concave points</th>\n",
       "      <th>mean symmetry</th>\n",
       "      <th>mean fractal dimension</th>\n",
       "      <th>...</th>\n",
       "      <th>worst texture</th>\n",
       "      <th>worst perimeter</th>\n",
       "      <th>worst area</th>\n",
       "      <th>worst smoothness</th>\n",
       "      <th>worst compactness</th>\n",
       "      <th>worst concavity</th>\n",
       "      <th>worst concave points</th>\n",
       "      <th>worst symmetry</th>\n",
       "      <th>worst fractal dimension</th>\n",
       "      <th>type</th>\n",
       "    </tr>\n",
       "  </thead>\n",
       "  <tbody>\n",
       "    <tr>\n",
       "      <th>0</th>\n",
       "      <td>17.99</td>\n",
       "      <td>10.38</td>\n",
       "      <td>122.80</td>\n",
       "      <td>1001.0</td>\n",
       "      <td>0.11840</td>\n",
       "      <td>0.27760</td>\n",
       "      <td>0.30010</td>\n",
       "      <td>0.14710</td>\n",
       "      <td>0.2419</td>\n",
       "      <td>0.07871</td>\n",
       "      <td>...</td>\n",
       "      <td>17.33</td>\n",
       "      <td>184.60</td>\n",
       "      <td>2019.0</td>\n",
       "      <td>0.16220</td>\n",
       "      <td>0.66560</td>\n",
       "      <td>0.7119</td>\n",
       "      <td>0.2654</td>\n",
       "      <td>0.4601</td>\n",
       "      <td>0.11890</td>\n",
       "      <td>0</td>\n",
       "    </tr>\n",
       "    <tr>\n",
       "      <th>1</th>\n",
       "      <td>20.57</td>\n",
       "      <td>17.77</td>\n",
       "      <td>132.90</td>\n",
       "      <td>1326.0</td>\n",
       "      <td>0.08474</td>\n",
       "      <td>0.07864</td>\n",
       "      <td>0.08690</td>\n",
       "      <td>0.07017</td>\n",
       "      <td>0.1812</td>\n",
       "      <td>0.05667</td>\n",
       "      <td>...</td>\n",
       "      <td>23.41</td>\n",
       "      <td>158.80</td>\n",
       "      <td>1956.0</td>\n",
       "      <td>0.12380</td>\n",
       "      <td>0.18660</td>\n",
       "      <td>0.2416</td>\n",
       "      <td>0.1860</td>\n",
       "      <td>0.2750</td>\n",
       "      <td>0.08902</td>\n",
       "      <td>0</td>\n",
       "    </tr>\n",
       "    <tr>\n",
       "      <th>2</th>\n",
       "      <td>19.69</td>\n",
       "      <td>21.25</td>\n",
       "      <td>130.00</td>\n",
       "      <td>1203.0</td>\n",
       "      <td>0.10960</td>\n",
       "      <td>0.15990</td>\n",
       "      <td>0.19740</td>\n",
       "      <td>0.12790</td>\n",
       "      <td>0.2069</td>\n",
       "      <td>0.05999</td>\n",
       "      <td>...</td>\n",
       "      <td>25.53</td>\n",
       "      <td>152.50</td>\n",
       "      <td>1709.0</td>\n",
       "      <td>0.14440</td>\n",
       "      <td>0.42450</td>\n",
       "      <td>0.4504</td>\n",
       "      <td>0.2430</td>\n",
       "      <td>0.3613</td>\n",
       "      <td>0.08758</td>\n",
       "      <td>0</td>\n",
       "    </tr>\n",
       "    <tr>\n",
       "      <th>3</th>\n",
       "      <td>11.42</td>\n",
       "      <td>20.38</td>\n",
       "      <td>77.58</td>\n",
       "      <td>386.1</td>\n",
       "      <td>0.14250</td>\n",
       "      <td>0.28390</td>\n",
       "      <td>0.24140</td>\n",
       "      <td>0.10520</td>\n",
       "      <td>0.2597</td>\n",
       "      <td>0.09744</td>\n",
       "      <td>...</td>\n",
       "      <td>26.50</td>\n",
       "      <td>98.87</td>\n",
       "      <td>567.7</td>\n",
       "      <td>0.20980</td>\n",
       "      <td>0.86630</td>\n",
       "      <td>0.6869</td>\n",
       "      <td>0.2575</td>\n",
       "      <td>0.6638</td>\n",
       "      <td>0.17300</td>\n",
       "      <td>0</td>\n",
       "    </tr>\n",
       "    <tr>\n",
       "      <th>4</th>\n",
       "      <td>20.29</td>\n",
       "      <td>14.34</td>\n",
       "      <td>135.10</td>\n",
       "      <td>1297.0</td>\n",
       "      <td>0.10030</td>\n",
       "      <td>0.13280</td>\n",
       "      <td>0.19800</td>\n",
       "      <td>0.10430</td>\n",
       "      <td>0.1809</td>\n",
       "      <td>0.05883</td>\n",
       "      <td>...</td>\n",
       "      <td>16.67</td>\n",
       "      <td>152.20</td>\n",
       "      <td>1575.0</td>\n",
       "      <td>0.13740</td>\n",
       "      <td>0.20500</td>\n",
       "      <td>0.4000</td>\n",
       "      <td>0.1625</td>\n",
       "      <td>0.2364</td>\n",
       "      <td>0.07678</td>\n",
       "      <td>0</td>\n",
       "    </tr>\n",
       "    <tr>\n",
       "      <th>...</th>\n",
       "      <td>...</td>\n",
       "      <td>...</td>\n",
       "      <td>...</td>\n",
       "      <td>...</td>\n",
       "      <td>...</td>\n",
       "      <td>...</td>\n",
       "      <td>...</td>\n",
       "      <td>...</td>\n",
       "      <td>...</td>\n",
       "      <td>...</td>\n",
       "      <td>...</td>\n",
       "      <td>...</td>\n",
       "      <td>...</td>\n",
       "      <td>...</td>\n",
       "      <td>...</td>\n",
       "      <td>...</td>\n",
       "      <td>...</td>\n",
       "      <td>...</td>\n",
       "      <td>...</td>\n",
       "      <td>...</td>\n",
       "      <td>...</td>\n",
       "    </tr>\n",
       "    <tr>\n",
       "      <th>564</th>\n",
       "      <td>21.56</td>\n",
       "      <td>22.39</td>\n",
       "      <td>142.00</td>\n",
       "      <td>1479.0</td>\n",
       "      <td>0.11100</td>\n",
       "      <td>0.11590</td>\n",
       "      <td>0.24390</td>\n",
       "      <td>0.13890</td>\n",
       "      <td>0.1726</td>\n",
       "      <td>0.05623</td>\n",
       "      <td>...</td>\n",
       "      <td>26.40</td>\n",
       "      <td>166.10</td>\n",
       "      <td>2027.0</td>\n",
       "      <td>0.14100</td>\n",
       "      <td>0.21130</td>\n",
       "      <td>0.4107</td>\n",
       "      <td>0.2216</td>\n",
       "      <td>0.2060</td>\n",
       "      <td>0.07115</td>\n",
       "      <td>0</td>\n",
       "    </tr>\n",
       "    <tr>\n",
       "      <th>565</th>\n",
       "      <td>20.13</td>\n",
       "      <td>28.25</td>\n",
       "      <td>131.20</td>\n",
       "      <td>1261.0</td>\n",
       "      <td>0.09780</td>\n",
       "      <td>0.10340</td>\n",
       "      <td>0.14400</td>\n",
       "      <td>0.09791</td>\n",
       "      <td>0.1752</td>\n",
       "      <td>0.05533</td>\n",
       "      <td>...</td>\n",
       "      <td>38.25</td>\n",
       "      <td>155.00</td>\n",
       "      <td>1731.0</td>\n",
       "      <td>0.11660</td>\n",
       "      <td>0.19220</td>\n",
       "      <td>0.3215</td>\n",
       "      <td>0.1628</td>\n",
       "      <td>0.2572</td>\n",
       "      <td>0.06637</td>\n",
       "      <td>0</td>\n",
       "    </tr>\n",
       "    <tr>\n",
       "      <th>566</th>\n",
       "      <td>16.60</td>\n",
       "      <td>28.08</td>\n",
       "      <td>108.30</td>\n",
       "      <td>858.1</td>\n",
       "      <td>0.08455</td>\n",
       "      <td>0.10230</td>\n",
       "      <td>0.09251</td>\n",
       "      <td>0.05302</td>\n",
       "      <td>0.1590</td>\n",
       "      <td>0.05648</td>\n",
       "      <td>...</td>\n",
       "      <td>34.12</td>\n",
       "      <td>126.70</td>\n",
       "      <td>1124.0</td>\n",
       "      <td>0.11390</td>\n",
       "      <td>0.30940</td>\n",
       "      <td>0.3403</td>\n",
       "      <td>0.1418</td>\n",
       "      <td>0.2218</td>\n",
       "      <td>0.07820</td>\n",
       "      <td>0</td>\n",
       "    </tr>\n",
       "    <tr>\n",
       "      <th>567</th>\n",
       "      <td>20.60</td>\n",
       "      <td>29.33</td>\n",
       "      <td>140.10</td>\n",
       "      <td>1265.0</td>\n",
       "      <td>0.11780</td>\n",
       "      <td>0.27700</td>\n",
       "      <td>0.35140</td>\n",
       "      <td>0.15200</td>\n",
       "      <td>0.2397</td>\n",
       "      <td>0.07016</td>\n",
       "      <td>...</td>\n",
       "      <td>39.42</td>\n",
       "      <td>184.60</td>\n",
       "      <td>1821.0</td>\n",
       "      <td>0.16500</td>\n",
       "      <td>0.86810</td>\n",
       "      <td>0.9387</td>\n",
       "      <td>0.2650</td>\n",
       "      <td>0.4087</td>\n",
       "      <td>0.12400</td>\n",
       "      <td>0</td>\n",
       "    </tr>\n",
       "    <tr>\n",
       "      <th>568</th>\n",
       "      <td>7.76</td>\n",
       "      <td>24.54</td>\n",
       "      <td>47.92</td>\n",
       "      <td>181.0</td>\n",
       "      <td>0.05263</td>\n",
       "      <td>0.04362</td>\n",
       "      <td>0.00000</td>\n",
       "      <td>0.00000</td>\n",
       "      <td>0.1587</td>\n",
       "      <td>0.05884</td>\n",
       "      <td>...</td>\n",
       "      <td>30.37</td>\n",
       "      <td>59.16</td>\n",
       "      <td>268.6</td>\n",
       "      <td>0.08996</td>\n",
       "      <td>0.06444</td>\n",
       "      <td>0.0000</td>\n",
       "      <td>0.0000</td>\n",
       "      <td>0.2871</td>\n",
       "      <td>0.07039</td>\n",
       "      <td>1</td>\n",
       "    </tr>\n",
       "  </tbody>\n",
       "</table>\n",
       "<p>569 rows × 31 columns</p>\n",
       "</div>"
      ],
      "text/plain": [
       "     mean radius  mean texture  mean perimeter  mean area  mean smoothness  \\\n",
       "0          17.99         10.38          122.80     1001.0          0.11840   \n",
       "1          20.57         17.77          132.90     1326.0          0.08474   \n",
       "2          19.69         21.25          130.00     1203.0          0.10960   \n",
       "3          11.42         20.38           77.58      386.1          0.14250   \n",
       "4          20.29         14.34          135.10     1297.0          0.10030   \n",
       "..           ...           ...             ...        ...              ...   \n",
       "564        21.56         22.39          142.00     1479.0          0.11100   \n",
       "565        20.13         28.25          131.20     1261.0          0.09780   \n",
       "566        16.60         28.08          108.30      858.1          0.08455   \n",
       "567        20.60         29.33          140.10     1265.0          0.11780   \n",
       "568         7.76         24.54           47.92      181.0          0.05263   \n",
       "\n",
       "     mean compactness  mean concavity  mean concave points  mean symmetry  \\\n",
       "0             0.27760         0.30010              0.14710         0.2419   \n",
       "1             0.07864         0.08690              0.07017         0.1812   \n",
       "2             0.15990         0.19740              0.12790         0.2069   \n",
       "3             0.28390         0.24140              0.10520         0.2597   \n",
       "4             0.13280         0.19800              0.10430         0.1809   \n",
       "..                ...             ...                  ...            ...   \n",
       "564           0.11590         0.24390              0.13890         0.1726   \n",
       "565           0.10340         0.14400              0.09791         0.1752   \n",
       "566           0.10230         0.09251              0.05302         0.1590   \n",
       "567           0.27700         0.35140              0.15200         0.2397   \n",
       "568           0.04362         0.00000              0.00000         0.1587   \n",
       "\n",
       "     mean fractal dimension  ...  worst texture  worst perimeter  worst area  \\\n",
       "0                   0.07871  ...          17.33           184.60      2019.0   \n",
       "1                   0.05667  ...          23.41           158.80      1956.0   \n",
       "2                   0.05999  ...          25.53           152.50      1709.0   \n",
       "3                   0.09744  ...          26.50            98.87       567.7   \n",
       "4                   0.05883  ...          16.67           152.20      1575.0   \n",
       "..                      ...  ...            ...              ...         ...   \n",
       "564                 0.05623  ...          26.40           166.10      2027.0   \n",
       "565                 0.05533  ...          38.25           155.00      1731.0   \n",
       "566                 0.05648  ...          34.12           126.70      1124.0   \n",
       "567                 0.07016  ...          39.42           184.60      1821.0   \n",
       "568                 0.05884  ...          30.37            59.16       268.6   \n",
       "\n",
       "     worst smoothness  worst compactness  worst concavity  \\\n",
       "0             0.16220            0.66560           0.7119   \n",
       "1             0.12380            0.18660           0.2416   \n",
       "2             0.14440            0.42450           0.4504   \n",
       "3             0.20980            0.86630           0.6869   \n",
       "4             0.13740            0.20500           0.4000   \n",
       "..                ...                ...              ...   \n",
       "564           0.14100            0.21130           0.4107   \n",
       "565           0.11660            0.19220           0.3215   \n",
       "566           0.11390            0.30940           0.3403   \n",
       "567           0.16500            0.86810           0.9387   \n",
       "568           0.08996            0.06444           0.0000   \n",
       "\n",
       "     worst concave points  worst symmetry  worst fractal dimension  type  \n",
       "0                  0.2654          0.4601                  0.11890     0  \n",
       "1                  0.1860          0.2750                  0.08902     0  \n",
       "2                  0.2430          0.3613                  0.08758     0  \n",
       "3                  0.2575          0.6638                  0.17300     0  \n",
       "4                  0.1625          0.2364                  0.07678     0  \n",
       "..                    ...             ...                      ...   ...  \n",
       "564                0.2216          0.2060                  0.07115     0  \n",
       "565                0.1628          0.2572                  0.06637     0  \n",
       "566                0.1418          0.2218                  0.07820     0  \n",
       "567                0.2650          0.4087                  0.12400     0  \n",
       "568                0.0000          0.2871                  0.07039     1  \n",
       "\n",
       "[569 rows x 31 columns]"
      ]
     },
     "execution_count": 4,
     "metadata": {},
     "output_type": "execute_result"
    }
   ],
   "source": [
    "# 观察数据集\n",
    "breast_cancer_df"
   ]
  },
  {
   "cell_type": "code",
   "execution_count": 5,
   "metadata": {
    "ExecuteTime": {
     "end_time": "2021-11-15T13:08:44.992270Z",
     "start_time": "2021-11-15T13:08:41.357693Z"
    }
   },
   "outputs": [
    {
     "data": {
      "text/html": [
       "<style  type=\"text/css\" >\n",
       "#T_29aea91f_4615_11ec_a74e_c8e265515ae1row21_col1,#T_29aea91f_4615_11ec_a74e_c8e265515ae1row25_col1{\n",
       "            background-color:  lightgreen;\n",
       "        }</style><table id=\"T_29aea91f_4615_11ec_a74e_c8e265515ae1\" ><thead>    <tr>        <th class=\"blank level0\" ></th>        <th class=\"col_heading level0 col0\" >Description</th>        <th class=\"col_heading level0 col1\" >Value</th>    </tr></thead><tbody>\n",
       "                <tr>\n",
       "                        <th id=\"T_29aea91f_4615_11ec_a74e_c8e265515ae1level0_row0\" class=\"row_heading level0 row0\" >0</th>\n",
       "                        <td id=\"T_29aea91f_4615_11ec_a74e_c8e265515ae1row0_col0\" class=\"data row0 col0\" >session_id</td>\n",
       "                        <td id=\"T_29aea91f_4615_11ec_a74e_c8e265515ae1row0_col1\" class=\"data row0 col1\" >666</td>\n",
       "            </tr>\n",
       "            <tr>\n",
       "                        <th id=\"T_29aea91f_4615_11ec_a74e_c8e265515ae1level0_row1\" class=\"row_heading level0 row1\" >1</th>\n",
       "                        <td id=\"T_29aea91f_4615_11ec_a74e_c8e265515ae1row1_col0\" class=\"data row1 col0\" >Original Data</td>\n",
       "                        <td id=\"T_29aea91f_4615_11ec_a74e_c8e265515ae1row1_col1\" class=\"data row1 col1\" >(569, 31)</td>\n",
       "            </tr>\n",
       "            <tr>\n",
       "                        <th id=\"T_29aea91f_4615_11ec_a74e_c8e265515ae1level0_row2\" class=\"row_heading level0 row2\" >2</th>\n",
       "                        <td id=\"T_29aea91f_4615_11ec_a74e_c8e265515ae1row2_col0\" class=\"data row2 col0\" >Missing Values</td>\n",
       "                        <td id=\"T_29aea91f_4615_11ec_a74e_c8e265515ae1row2_col1\" class=\"data row2 col1\" >False</td>\n",
       "            </tr>\n",
       "            <tr>\n",
       "                        <th id=\"T_29aea91f_4615_11ec_a74e_c8e265515ae1level0_row3\" class=\"row_heading level0 row3\" >3</th>\n",
       "                        <td id=\"T_29aea91f_4615_11ec_a74e_c8e265515ae1row3_col0\" class=\"data row3 col0\" >Numeric Features</td>\n",
       "                        <td id=\"T_29aea91f_4615_11ec_a74e_c8e265515ae1row3_col1\" class=\"data row3 col1\" >30</td>\n",
       "            </tr>\n",
       "            <tr>\n",
       "                        <th id=\"T_29aea91f_4615_11ec_a74e_c8e265515ae1level0_row4\" class=\"row_heading level0 row4\" >4</th>\n",
       "                        <td id=\"T_29aea91f_4615_11ec_a74e_c8e265515ae1row4_col0\" class=\"data row4 col0\" >Categorical Features</td>\n",
       "                        <td id=\"T_29aea91f_4615_11ec_a74e_c8e265515ae1row4_col1\" class=\"data row4 col1\" >1</td>\n",
       "            </tr>\n",
       "            <tr>\n",
       "                        <th id=\"T_29aea91f_4615_11ec_a74e_c8e265515ae1level0_row5\" class=\"row_heading level0 row5\" >5</th>\n",
       "                        <td id=\"T_29aea91f_4615_11ec_a74e_c8e265515ae1row5_col0\" class=\"data row5 col0\" >Ordinal Features</td>\n",
       "                        <td id=\"T_29aea91f_4615_11ec_a74e_c8e265515ae1row5_col1\" class=\"data row5 col1\" >False</td>\n",
       "            </tr>\n",
       "            <tr>\n",
       "                        <th id=\"T_29aea91f_4615_11ec_a74e_c8e265515ae1level0_row6\" class=\"row_heading level0 row6\" >6</th>\n",
       "                        <td id=\"T_29aea91f_4615_11ec_a74e_c8e265515ae1row6_col0\" class=\"data row6 col0\" >High Cardinality Features</td>\n",
       "                        <td id=\"T_29aea91f_4615_11ec_a74e_c8e265515ae1row6_col1\" class=\"data row6 col1\" >False</td>\n",
       "            </tr>\n",
       "            <tr>\n",
       "                        <th id=\"T_29aea91f_4615_11ec_a74e_c8e265515ae1level0_row7\" class=\"row_heading level0 row7\" >7</th>\n",
       "                        <td id=\"T_29aea91f_4615_11ec_a74e_c8e265515ae1row7_col0\" class=\"data row7 col0\" >High Cardinality Method</td>\n",
       "                        <td id=\"T_29aea91f_4615_11ec_a74e_c8e265515ae1row7_col1\" class=\"data row7 col1\" >None</td>\n",
       "            </tr>\n",
       "            <tr>\n",
       "                        <th id=\"T_29aea91f_4615_11ec_a74e_c8e265515ae1level0_row8\" class=\"row_heading level0 row8\" >8</th>\n",
       "                        <td id=\"T_29aea91f_4615_11ec_a74e_c8e265515ae1row8_col0\" class=\"data row8 col0\" >Transformed Data</td>\n",
       "                        <td id=\"T_29aea91f_4615_11ec_a74e_c8e265515ae1row8_col1\" class=\"data row8 col1\" >(569, 18)</td>\n",
       "            </tr>\n",
       "            <tr>\n",
       "                        <th id=\"T_29aea91f_4615_11ec_a74e_c8e265515ae1level0_row9\" class=\"row_heading level0 row9\" >9</th>\n",
       "                        <td id=\"T_29aea91f_4615_11ec_a74e_c8e265515ae1row9_col0\" class=\"data row9 col0\" >CPU Jobs</td>\n",
       "                        <td id=\"T_29aea91f_4615_11ec_a74e_c8e265515ae1row9_col1\" class=\"data row9 col1\" >-1</td>\n",
       "            </tr>\n",
       "            <tr>\n",
       "                        <th id=\"T_29aea91f_4615_11ec_a74e_c8e265515ae1level0_row10\" class=\"row_heading level0 row10\" >10</th>\n",
       "                        <td id=\"T_29aea91f_4615_11ec_a74e_c8e265515ae1row10_col0\" class=\"data row10 col0\" >Use GPU</td>\n",
       "                        <td id=\"T_29aea91f_4615_11ec_a74e_c8e265515ae1row10_col1\" class=\"data row10 col1\" >False</td>\n",
       "            </tr>\n",
       "            <tr>\n",
       "                        <th id=\"T_29aea91f_4615_11ec_a74e_c8e265515ae1level0_row11\" class=\"row_heading level0 row11\" >11</th>\n",
       "                        <td id=\"T_29aea91f_4615_11ec_a74e_c8e265515ae1row11_col0\" class=\"data row11 col0\" >Log Experiment</td>\n",
       "                        <td id=\"T_29aea91f_4615_11ec_a74e_c8e265515ae1row11_col1\" class=\"data row11 col1\" >False</td>\n",
       "            </tr>\n",
       "            <tr>\n",
       "                        <th id=\"T_29aea91f_4615_11ec_a74e_c8e265515ae1level0_row12\" class=\"row_heading level0 row12\" >12</th>\n",
       "                        <td id=\"T_29aea91f_4615_11ec_a74e_c8e265515ae1row12_col0\" class=\"data row12 col0\" >Experiment Name</td>\n",
       "                        <td id=\"T_29aea91f_4615_11ec_a74e_c8e265515ae1row12_col1\" class=\"data row12 col1\" >cluster-default-name</td>\n",
       "            </tr>\n",
       "            <tr>\n",
       "                        <th id=\"T_29aea91f_4615_11ec_a74e_c8e265515ae1level0_row13\" class=\"row_heading level0 row13\" >13</th>\n",
       "                        <td id=\"T_29aea91f_4615_11ec_a74e_c8e265515ae1row13_col0\" class=\"data row13 col0\" >USI</td>\n",
       "                        <td id=\"T_29aea91f_4615_11ec_a74e_c8e265515ae1row13_col1\" class=\"data row13 col1\" >e93c</td>\n",
       "            </tr>\n",
       "            <tr>\n",
       "                        <th id=\"T_29aea91f_4615_11ec_a74e_c8e265515ae1level0_row14\" class=\"row_heading level0 row14\" >14</th>\n",
       "                        <td id=\"T_29aea91f_4615_11ec_a74e_c8e265515ae1row14_col0\" class=\"data row14 col0\" >Imputation Type</td>\n",
       "                        <td id=\"T_29aea91f_4615_11ec_a74e_c8e265515ae1row14_col1\" class=\"data row14 col1\" >simple</td>\n",
       "            </tr>\n",
       "            <tr>\n",
       "                        <th id=\"T_29aea91f_4615_11ec_a74e_c8e265515ae1level0_row15\" class=\"row_heading level0 row15\" >15</th>\n",
       "                        <td id=\"T_29aea91f_4615_11ec_a74e_c8e265515ae1row15_col0\" class=\"data row15 col0\" >Iterative Imputation Iteration</td>\n",
       "                        <td id=\"T_29aea91f_4615_11ec_a74e_c8e265515ae1row15_col1\" class=\"data row15 col1\" >None</td>\n",
       "            </tr>\n",
       "            <tr>\n",
       "                        <th id=\"T_29aea91f_4615_11ec_a74e_c8e265515ae1level0_row16\" class=\"row_heading level0 row16\" >16</th>\n",
       "                        <td id=\"T_29aea91f_4615_11ec_a74e_c8e265515ae1row16_col0\" class=\"data row16 col0\" >Numeric Imputer</td>\n",
       "                        <td id=\"T_29aea91f_4615_11ec_a74e_c8e265515ae1row16_col1\" class=\"data row16 col1\" >mean</td>\n",
       "            </tr>\n",
       "            <tr>\n",
       "                        <th id=\"T_29aea91f_4615_11ec_a74e_c8e265515ae1level0_row17\" class=\"row_heading level0 row17\" >17</th>\n",
       "                        <td id=\"T_29aea91f_4615_11ec_a74e_c8e265515ae1row17_col0\" class=\"data row17 col0\" >Iterative Imputation Numeric Model</td>\n",
       "                        <td id=\"T_29aea91f_4615_11ec_a74e_c8e265515ae1row17_col1\" class=\"data row17 col1\" >None</td>\n",
       "            </tr>\n",
       "            <tr>\n",
       "                        <th id=\"T_29aea91f_4615_11ec_a74e_c8e265515ae1level0_row18\" class=\"row_heading level0 row18\" >18</th>\n",
       "                        <td id=\"T_29aea91f_4615_11ec_a74e_c8e265515ae1row18_col0\" class=\"data row18 col0\" >Categorical Imputer</td>\n",
       "                        <td id=\"T_29aea91f_4615_11ec_a74e_c8e265515ae1row18_col1\" class=\"data row18 col1\" >mode</td>\n",
       "            </tr>\n",
       "            <tr>\n",
       "                        <th id=\"T_29aea91f_4615_11ec_a74e_c8e265515ae1level0_row19\" class=\"row_heading level0 row19\" >19</th>\n",
       "                        <td id=\"T_29aea91f_4615_11ec_a74e_c8e265515ae1row19_col0\" class=\"data row19 col0\" >Iterative Imputation Categorical Model</td>\n",
       "                        <td id=\"T_29aea91f_4615_11ec_a74e_c8e265515ae1row19_col1\" class=\"data row19 col1\" >None</td>\n",
       "            </tr>\n",
       "            <tr>\n",
       "                        <th id=\"T_29aea91f_4615_11ec_a74e_c8e265515ae1level0_row20\" class=\"row_heading level0 row20\" >20</th>\n",
       "                        <td id=\"T_29aea91f_4615_11ec_a74e_c8e265515ae1row20_col0\" class=\"data row20 col0\" >Unknown Categoricals Handling</td>\n",
       "                        <td id=\"T_29aea91f_4615_11ec_a74e_c8e265515ae1row20_col1\" class=\"data row20 col1\" >least_frequent</td>\n",
       "            </tr>\n",
       "            <tr>\n",
       "                        <th id=\"T_29aea91f_4615_11ec_a74e_c8e265515ae1level0_row21\" class=\"row_heading level0 row21\" >21</th>\n",
       "                        <td id=\"T_29aea91f_4615_11ec_a74e_c8e265515ae1row21_col0\" class=\"data row21 col0\" >Normalize</td>\n",
       "                        <td id=\"T_29aea91f_4615_11ec_a74e_c8e265515ae1row21_col1\" class=\"data row21 col1\" >True</td>\n",
       "            </tr>\n",
       "            <tr>\n",
       "                        <th id=\"T_29aea91f_4615_11ec_a74e_c8e265515ae1level0_row22\" class=\"row_heading level0 row22\" >22</th>\n",
       "                        <td id=\"T_29aea91f_4615_11ec_a74e_c8e265515ae1row22_col0\" class=\"data row22 col0\" >Normalize Method</td>\n",
       "                        <td id=\"T_29aea91f_4615_11ec_a74e_c8e265515ae1row22_col1\" class=\"data row22 col1\" >zscore</td>\n",
       "            </tr>\n",
       "            <tr>\n",
       "                        <th id=\"T_29aea91f_4615_11ec_a74e_c8e265515ae1level0_row23\" class=\"row_heading level0 row23\" >23</th>\n",
       "                        <td id=\"T_29aea91f_4615_11ec_a74e_c8e265515ae1row23_col0\" class=\"data row23 col0\" >Transformation</td>\n",
       "                        <td id=\"T_29aea91f_4615_11ec_a74e_c8e265515ae1row23_col1\" class=\"data row23 col1\" >False</td>\n",
       "            </tr>\n",
       "            <tr>\n",
       "                        <th id=\"T_29aea91f_4615_11ec_a74e_c8e265515ae1level0_row24\" class=\"row_heading level0 row24\" >24</th>\n",
       "                        <td id=\"T_29aea91f_4615_11ec_a74e_c8e265515ae1row24_col0\" class=\"data row24 col0\" >Transformation Method</td>\n",
       "                        <td id=\"T_29aea91f_4615_11ec_a74e_c8e265515ae1row24_col1\" class=\"data row24 col1\" >None</td>\n",
       "            </tr>\n",
       "            <tr>\n",
       "                        <th id=\"T_29aea91f_4615_11ec_a74e_c8e265515ae1level0_row25\" class=\"row_heading level0 row25\" >25</th>\n",
       "                        <td id=\"T_29aea91f_4615_11ec_a74e_c8e265515ae1row25_col0\" class=\"data row25 col0\" >PCA</td>\n",
       "                        <td id=\"T_29aea91f_4615_11ec_a74e_c8e265515ae1row25_col1\" class=\"data row25 col1\" >True</td>\n",
       "            </tr>\n",
       "            <tr>\n",
       "                        <th id=\"T_29aea91f_4615_11ec_a74e_c8e265515ae1level0_row26\" class=\"row_heading level0 row26\" >26</th>\n",
       "                        <td id=\"T_29aea91f_4615_11ec_a74e_c8e265515ae1row26_col0\" class=\"data row26 col0\" >PCA Method</td>\n",
       "                        <td id=\"T_29aea91f_4615_11ec_a74e_c8e265515ae1row26_col1\" class=\"data row26 col1\" >linear</td>\n",
       "            </tr>\n",
       "            <tr>\n",
       "                        <th id=\"T_29aea91f_4615_11ec_a74e_c8e265515ae1level0_row27\" class=\"row_heading level0 row27\" >27</th>\n",
       "                        <td id=\"T_29aea91f_4615_11ec_a74e_c8e265515ae1row27_col0\" class=\"data row27 col0\" >PCA Components</td>\n",
       "                        <td id=\"T_29aea91f_4615_11ec_a74e_c8e265515ae1row27_col1\" class=\"data row27 col1\" >0.990000</td>\n",
       "            </tr>\n",
       "            <tr>\n",
       "                        <th id=\"T_29aea91f_4615_11ec_a74e_c8e265515ae1level0_row28\" class=\"row_heading level0 row28\" >28</th>\n",
       "                        <td id=\"T_29aea91f_4615_11ec_a74e_c8e265515ae1row28_col0\" class=\"data row28 col0\" >Ignore Low Variance</td>\n",
       "                        <td id=\"T_29aea91f_4615_11ec_a74e_c8e265515ae1row28_col1\" class=\"data row28 col1\" >False</td>\n",
       "            </tr>\n",
       "            <tr>\n",
       "                        <th id=\"T_29aea91f_4615_11ec_a74e_c8e265515ae1level0_row29\" class=\"row_heading level0 row29\" >29</th>\n",
       "                        <td id=\"T_29aea91f_4615_11ec_a74e_c8e265515ae1row29_col0\" class=\"data row29 col0\" >Combine Rare Levels</td>\n",
       "                        <td id=\"T_29aea91f_4615_11ec_a74e_c8e265515ae1row29_col1\" class=\"data row29 col1\" >False</td>\n",
       "            </tr>\n",
       "            <tr>\n",
       "                        <th id=\"T_29aea91f_4615_11ec_a74e_c8e265515ae1level0_row30\" class=\"row_heading level0 row30\" >30</th>\n",
       "                        <td id=\"T_29aea91f_4615_11ec_a74e_c8e265515ae1row30_col0\" class=\"data row30 col0\" >Rare Level Threshold</td>\n",
       "                        <td id=\"T_29aea91f_4615_11ec_a74e_c8e265515ae1row30_col1\" class=\"data row30 col1\" >None</td>\n",
       "            </tr>\n",
       "            <tr>\n",
       "                        <th id=\"T_29aea91f_4615_11ec_a74e_c8e265515ae1level0_row31\" class=\"row_heading level0 row31\" >31</th>\n",
       "                        <td id=\"T_29aea91f_4615_11ec_a74e_c8e265515ae1row31_col0\" class=\"data row31 col0\" >Numeric Binning</td>\n",
       "                        <td id=\"T_29aea91f_4615_11ec_a74e_c8e265515ae1row31_col1\" class=\"data row31 col1\" >False</td>\n",
       "            </tr>\n",
       "            <tr>\n",
       "                        <th id=\"T_29aea91f_4615_11ec_a74e_c8e265515ae1level0_row32\" class=\"row_heading level0 row32\" >32</th>\n",
       "                        <td id=\"T_29aea91f_4615_11ec_a74e_c8e265515ae1row32_col0\" class=\"data row32 col0\" >Remove Outliers</td>\n",
       "                        <td id=\"T_29aea91f_4615_11ec_a74e_c8e265515ae1row32_col1\" class=\"data row32 col1\" >False</td>\n",
       "            </tr>\n",
       "            <tr>\n",
       "                        <th id=\"T_29aea91f_4615_11ec_a74e_c8e265515ae1level0_row33\" class=\"row_heading level0 row33\" >33</th>\n",
       "                        <td id=\"T_29aea91f_4615_11ec_a74e_c8e265515ae1row33_col0\" class=\"data row33 col0\" >Outliers Threshold</td>\n",
       "                        <td id=\"T_29aea91f_4615_11ec_a74e_c8e265515ae1row33_col1\" class=\"data row33 col1\" >None</td>\n",
       "            </tr>\n",
       "            <tr>\n",
       "                        <th id=\"T_29aea91f_4615_11ec_a74e_c8e265515ae1level0_row34\" class=\"row_heading level0 row34\" >34</th>\n",
       "                        <td id=\"T_29aea91f_4615_11ec_a74e_c8e265515ae1row34_col0\" class=\"data row34 col0\" >Remove Multicollinearity</td>\n",
       "                        <td id=\"T_29aea91f_4615_11ec_a74e_c8e265515ae1row34_col1\" class=\"data row34 col1\" >False</td>\n",
       "            </tr>\n",
       "            <tr>\n",
       "                        <th id=\"T_29aea91f_4615_11ec_a74e_c8e265515ae1level0_row35\" class=\"row_heading level0 row35\" >35</th>\n",
       "                        <td id=\"T_29aea91f_4615_11ec_a74e_c8e265515ae1row35_col0\" class=\"data row35 col0\" >Multicollinearity Threshold</td>\n",
       "                        <td id=\"T_29aea91f_4615_11ec_a74e_c8e265515ae1row35_col1\" class=\"data row35 col1\" >None</td>\n",
       "            </tr>\n",
       "            <tr>\n",
       "                        <th id=\"T_29aea91f_4615_11ec_a74e_c8e265515ae1level0_row36\" class=\"row_heading level0 row36\" >36</th>\n",
       "                        <td id=\"T_29aea91f_4615_11ec_a74e_c8e265515ae1row36_col0\" class=\"data row36 col0\" >Remove Perfect Collinearity</td>\n",
       "                        <td id=\"T_29aea91f_4615_11ec_a74e_c8e265515ae1row36_col1\" class=\"data row36 col1\" >False</td>\n",
       "            </tr>\n",
       "            <tr>\n",
       "                        <th id=\"T_29aea91f_4615_11ec_a74e_c8e265515ae1level0_row37\" class=\"row_heading level0 row37\" >37</th>\n",
       "                        <td id=\"T_29aea91f_4615_11ec_a74e_c8e265515ae1row37_col0\" class=\"data row37 col0\" >Clustering</td>\n",
       "                        <td id=\"T_29aea91f_4615_11ec_a74e_c8e265515ae1row37_col1\" class=\"data row37 col1\" >False</td>\n",
       "            </tr>\n",
       "            <tr>\n",
       "                        <th id=\"T_29aea91f_4615_11ec_a74e_c8e265515ae1level0_row38\" class=\"row_heading level0 row38\" >38</th>\n",
       "                        <td id=\"T_29aea91f_4615_11ec_a74e_c8e265515ae1row38_col0\" class=\"data row38 col0\" >Clustering Iteration</td>\n",
       "                        <td id=\"T_29aea91f_4615_11ec_a74e_c8e265515ae1row38_col1\" class=\"data row38 col1\" >None</td>\n",
       "            </tr>\n",
       "            <tr>\n",
       "                        <th id=\"T_29aea91f_4615_11ec_a74e_c8e265515ae1level0_row39\" class=\"row_heading level0 row39\" >39</th>\n",
       "                        <td id=\"T_29aea91f_4615_11ec_a74e_c8e265515ae1row39_col0\" class=\"data row39 col0\" >Polynomial Features</td>\n",
       "                        <td id=\"T_29aea91f_4615_11ec_a74e_c8e265515ae1row39_col1\" class=\"data row39 col1\" >False</td>\n",
       "            </tr>\n",
       "            <tr>\n",
       "                        <th id=\"T_29aea91f_4615_11ec_a74e_c8e265515ae1level0_row40\" class=\"row_heading level0 row40\" >40</th>\n",
       "                        <td id=\"T_29aea91f_4615_11ec_a74e_c8e265515ae1row40_col0\" class=\"data row40 col0\" >Polynomial Degree</td>\n",
       "                        <td id=\"T_29aea91f_4615_11ec_a74e_c8e265515ae1row40_col1\" class=\"data row40 col1\" >None</td>\n",
       "            </tr>\n",
       "            <tr>\n",
       "                        <th id=\"T_29aea91f_4615_11ec_a74e_c8e265515ae1level0_row41\" class=\"row_heading level0 row41\" >41</th>\n",
       "                        <td id=\"T_29aea91f_4615_11ec_a74e_c8e265515ae1row41_col0\" class=\"data row41 col0\" >Trignometry Features</td>\n",
       "                        <td id=\"T_29aea91f_4615_11ec_a74e_c8e265515ae1row41_col1\" class=\"data row41 col1\" >False</td>\n",
       "            </tr>\n",
       "            <tr>\n",
       "                        <th id=\"T_29aea91f_4615_11ec_a74e_c8e265515ae1level0_row42\" class=\"row_heading level0 row42\" >42</th>\n",
       "                        <td id=\"T_29aea91f_4615_11ec_a74e_c8e265515ae1row42_col0\" class=\"data row42 col0\" >Polynomial Threshold</td>\n",
       "                        <td id=\"T_29aea91f_4615_11ec_a74e_c8e265515ae1row42_col1\" class=\"data row42 col1\" >None</td>\n",
       "            </tr>\n",
       "            <tr>\n",
       "                        <th id=\"T_29aea91f_4615_11ec_a74e_c8e265515ae1level0_row43\" class=\"row_heading level0 row43\" >43</th>\n",
       "                        <td id=\"T_29aea91f_4615_11ec_a74e_c8e265515ae1row43_col0\" class=\"data row43 col0\" >Group Features</td>\n",
       "                        <td id=\"T_29aea91f_4615_11ec_a74e_c8e265515ae1row43_col1\" class=\"data row43 col1\" >False</td>\n",
       "            </tr>\n",
       "            <tr>\n",
       "                        <th id=\"T_29aea91f_4615_11ec_a74e_c8e265515ae1level0_row44\" class=\"row_heading level0 row44\" >44</th>\n",
       "                        <td id=\"T_29aea91f_4615_11ec_a74e_c8e265515ae1row44_col0\" class=\"data row44 col0\" >Feature Selection</td>\n",
       "                        <td id=\"T_29aea91f_4615_11ec_a74e_c8e265515ae1row44_col1\" class=\"data row44 col1\" >False</td>\n",
       "            </tr>\n",
       "            <tr>\n",
       "                        <th id=\"T_29aea91f_4615_11ec_a74e_c8e265515ae1level0_row45\" class=\"row_heading level0 row45\" >45</th>\n",
       "                        <td id=\"T_29aea91f_4615_11ec_a74e_c8e265515ae1row45_col0\" class=\"data row45 col0\" >Feature Selection Method</td>\n",
       "                        <td id=\"T_29aea91f_4615_11ec_a74e_c8e265515ae1row45_col1\" class=\"data row45 col1\" >classic</td>\n",
       "            </tr>\n",
       "            <tr>\n",
       "                        <th id=\"T_29aea91f_4615_11ec_a74e_c8e265515ae1level0_row46\" class=\"row_heading level0 row46\" >46</th>\n",
       "                        <td id=\"T_29aea91f_4615_11ec_a74e_c8e265515ae1row46_col0\" class=\"data row46 col0\" >Features Selection Threshold</td>\n",
       "                        <td id=\"T_29aea91f_4615_11ec_a74e_c8e265515ae1row46_col1\" class=\"data row46 col1\" >None</td>\n",
       "            </tr>\n",
       "            <tr>\n",
       "                        <th id=\"T_29aea91f_4615_11ec_a74e_c8e265515ae1level0_row47\" class=\"row_heading level0 row47\" >47</th>\n",
       "                        <td id=\"T_29aea91f_4615_11ec_a74e_c8e265515ae1row47_col0\" class=\"data row47 col0\" >Feature Interaction</td>\n",
       "                        <td id=\"T_29aea91f_4615_11ec_a74e_c8e265515ae1row47_col1\" class=\"data row47 col1\" >False</td>\n",
       "            </tr>\n",
       "            <tr>\n",
       "                        <th id=\"T_29aea91f_4615_11ec_a74e_c8e265515ae1level0_row48\" class=\"row_heading level0 row48\" >48</th>\n",
       "                        <td id=\"T_29aea91f_4615_11ec_a74e_c8e265515ae1row48_col0\" class=\"data row48 col0\" >Feature Ratio</td>\n",
       "                        <td id=\"T_29aea91f_4615_11ec_a74e_c8e265515ae1row48_col1\" class=\"data row48 col1\" >False</td>\n",
       "            </tr>\n",
       "            <tr>\n",
       "                        <th id=\"T_29aea91f_4615_11ec_a74e_c8e265515ae1level0_row49\" class=\"row_heading level0 row49\" >49</th>\n",
       "                        <td id=\"T_29aea91f_4615_11ec_a74e_c8e265515ae1row49_col0\" class=\"data row49 col0\" >Interaction Threshold</td>\n",
       "                        <td id=\"T_29aea91f_4615_11ec_a74e_c8e265515ae1row49_col1\" class=\"data row49 col1\" >None</td>\n",
       "            </tr>\n",
       "    </tbody></table>"
      ],
      "text/plain": [
       "<pandas.io.formats.style.Styler at 0x24e03426040>"
      ]
     },
     "metadata": {},
     "output_type": "display_data"
    }
   ],
   "source": [
    "# 导入pycaret聚类方法\n",
    "from pycaret.clustering import *\n",
    "# 初始环境创建，迭代次数10，指定归一化方法为zscore，固定随机种子\n",
    "# 指定采用PCA（线性）降维\n",
    "cluster_breast_cancer =  setup(data = breast_cancer_df,\n",
    "                               iterative_imputation_iters =10,normalize=True,\n",
    "                               normalize_method = 'zscore',session_id=666,\n",
    "                               pca = True,pca_method='linear')\n"
   ]
  },
  {
   "cell_type": "code",
   "execution_count": 6,
   "metadata": {
    "ExecuteTime": {
     "end_time": "2021-11-15T13:09:25.685462Z",
     "start_time": "2021-11-15T13:09:25.520461Z"
    }
   },
   "outputs": [
    {
     "data": {
      "text/html": [
       "<div>\n",
       "<style scoped>\n",
       "    .dataframe tbody tr th:only-of-type {\n",
       "        vertical-align: middle;\n",
       "    }\n",
       "\n",
       "    .dataframe tbody tr th {\n",
       "        vertical-align: top;\n",
       "    }\n",
       "\n",
       "    .dataframe thead th {\n",
       "        text-align: right;\n",
       "    }\n",
       "</style>\n",
       "<table border=\"1\" class=\"dataframe\">\n",
       "  <thead>\n",
       "    <tr style=\"text-align: right;\">\n",
       "      <th></th>\n",
       "      <th>Silhouette</th>\n",
       "      <th>Calinski-Harabasz</th>\n",
       "      <th>Davies-Bouldin</th>\n",
       "      <th>Homogeneity</th>\n",
       "      <th>Rand Index</th>\n",
       "      <th>Completeness</th>\n",
       "    </tr>\n",
       "  </thead>\n",
       "  <tbody>\n",
       "    <tr>\n",
       "      <th>0</th>\n",
       "      <td>0.3543</td>\n",
       "      <td>277.9341</td>\n",
       "      <td>1.276</td>\n",
       "      <td>0.6024</td>\n",
       "      <td>0.7178</td>\n",
       "      <td>0.6333</td>\n",
       "    </tr>\n",
       "  </tbody>\n",
       "</table>\n",
       "</div>"
      ],
      "text/plain": [
       "   Silhouette  Calinski-Harabasz  Davies-Bouldin  Homogeneity  Rand Index  \\\n",
       "0      0.3543           277.9341           1.276       0.6024      0.7178   \n",
       "\n",
       "   Completeness  \n",
       "0        0.6333  "
      ]
     },
     "metadata": {},
     "output_type": "display_data"
    }
   ],
   "source": [
    "# 构建kmeans模型，指定类别为2类（与真实情况匹配）\n",
    "# 模型自动根据ground_truth列计算各项指标\n",
    "kmeans = create_model('kmeans',num_clusters=2,ground_truth='type')"
   ]
  },
  {
   "cell_type": "code",
   "execution_count": 14,
   "metadata": {
    "ExecuteTime": {
     "end_time": "2021-11-15T13:12:19.413597Z",
     "start_time": "2021-11-15T13:12:19.255597Z"
    }
   },
   "outputs": [
    {
     "data": {
      "application/vnd.plotly.v1+json": {
       "config": {
        "plotlyServerURL": "https://plot.ly"
       },
       "data": [
        {
         "customdata": [
          [
           12.89
          ],
          [
           15.19
          ],
          [
           12.21
          ],
          [
           13.4
          ],
          [
           16.5
          ],
          [
           12.76
          ],
          [
           13.3
          ],
          [
           12.54
          ],
          [
           9.436
          ],
          [
           8.878
          ],
          [
           13.87
          ],
          [
           13.05
          ],
          [
           12.56
          ],
          [
           13.69
          ],
          [
           11.14
          ],
          [
           11.95
          ],
          [
           11.47
          ],
          [
           14.76
          ],
          [
           12.06
          ],
          [
           10.26
          ],
          [
           11.71
          ],
          [
           11.06
          ],
          [
           9.606
          ],
          [
           14.42
          ],
          [
           10.05
          ],
          [
           12.99
          ],
          [
           12.3
          ],
          [
           11.66
          ],
          [
           16.17
          ],
          [
           13.46
          ],
          [
           13.66
          ],
          [
           11.04
          ],
          [
           11.36
          ],
          [
           12.27
          ],
          [
           12.85
          ],
          [
           16.14
          ],
          [
           10.94
          ],
          [
           12.34
          ],
          [
           12.94
          ],
          [
           12.96
          ],
          [
           11.93
          ],
          [
           11.8
          ],
          [
           11.06
          ],
          [
           12.8
          ],
          [
           13.51
          ],
          [
           14.06
          ],
          [
           12.1
          ],
          [
           8.734
          ],
          [
           10.26
          ],
          [
           11.27
          ],
          [
           13.88
          ],
          [
           12.21
          ],
          [
           14.6
          ],
          [
           13.28
          ],
          [
           12.39
          ],
          [
           12.05
          ],
          [
           11.04
          ],
          [
           11.27
          ],
          [
           11.25
          ],
          [
           9.397
          ],
          [
           11.22
          ],
          [
           12.03
          ],
          [
           11.37
          ],
          [
           11.26
          ],
          [
           12.89
          ],
          [
           11.94
          ],
          [
           12.58
          ],
          [
           11.74
          ],
          [
           13.85
          ],
          [
           13.59
          ],
          [
           18.81
          ],
          [
           11.33
          ],
          [
           11.89
          ],
          [
           17.93
          ],
          [
           14.96
          ],
          [
           9.742
          ],
          [
           14.29
          ],
          [
           10.71
          ],
          [
           12.87
          ],
          [
           13.59
          ],
          [
           10.6
          ],
          [
           15.61
          ],
          [
           17.35
          ],
          [
           13.96
          ],
          [
           11.5
          ],
          [
           11.52
          ],
          [
           10.65
          ],
          [
           12.89
          ],
          [
           11.29
          ],
          [
           12.95
          ],
          [
           11.85
          ],
          [
           12.72
          ],
          [
           14.11
          ],
          [
           12.67
          ],
          [
           12.2
          ],
          [
           12.86
          ],
          [
           10.25
          ],
          [
           12.43
          ],
          [
           9.042
          ],
          [
           12.18
          ],
          [
           12.49
          ],
          [
           8.597
          ],
          [
           11.54
          ],
          [
           12.76
          ],
          [
           14.61
          ],
          [
           11.7
          ],
          [
           13.05
          ],
          [
           13.5
          ],
          [
           9
          ],
          [
           13.2
          ],
          [
           11.6
          ],
          [
           11.46
          ],
          [
           10.49
          ],
          [
           12.46
          ],
          [
           10.51
          ],
          [
           14.26
          ],
          [
           11.76
          ],
          [
           10.91
          ],
          [
           13.77
          ],
          [
           12.98
          ],
          [
           13.2
          ],
          [
           14.99
          ],
          [
           11.89
          ],
          [
           13.94
          ],
          [
           12.34
          ],
          [
           13.46
          ],
          [
           8.571
          ],
          [
           9.847
          ],
          [
           13.71
          ],
          [
           11.26
          ],
          [
           9.295
          ],
          [
           12.75
          ],
          [
           12.88
          ],
          [
           11.34
          ],
          [
           15.05
          ],
          [
           12.07
          ],
          [
           14.58
          ],
          [
           11.74
          ],
          [
           16.3
          ],
          [
           11.06
          ],
          [
           12.22
          ],
          [
           9.676
          ],
          [
           9.268
          ],
          [
           12.54
          ],
          [
           15.04
          ],
          [
           12.47
          ],
          [
           12.65
          ],
          [
           14.87
          ],
          [
           13.16
          ],
          [
           14.81
          ],
          [
           11.75
          ],
          [
           11.67
          ],
          [
           13.68
          ],
          [
           11.2
          ],
          [
           14.05
          ],
          [
           11.51
          ],
          [
           14.59
          ],
          [
           9.423
          ],
          [
           10.16
          ],
          [
           10.29
          ],
          [
           12.88
          ],
          [
           9.333
          ],
          [
           12.77
          ],
          [
           11.13
          ],
          [
           10.86
          ],
          [
           10.82
          ],
          [
           9.683
          ],
          [
           10.26
          ],
          [
           10.32
          ],
          [
           13.62
          ],
          [
           13.87
          ],
          [
           13.21
          ],
          [
           14.74
          ],
          [
           14.47
          ],
          [
           11.54
          ],
          [
           7.691
          ],
          [
           7.729
          ],
          [
           11.69
          ],
          [
           14.27
          ],
          [
           10.96
          ],
          [
           12.46
          ],
          [
           15.13
          ],
          [
           17.85
          ],
          [
           16.69
          ],
          [
           11.87
          ],
          [
           14.53
          ],
          [
           14.8
          ],
          [
           11.99
          ],
          [
           10.57
          ],
          [
           13.78
          ],
          [
           10.97
          ],
          [
           14.02
          ],
          [
           13.85
          ],
          [
           14.04
          ],
          [
           12.87
          ],
          [
           13.98
          ],
          [
           12
          ],
          [
           14.86
          ],
          [
           12.72
          ],
          [
           11.13
          ],
          [
           10.8
          ],
          [
           10.48
          ],
          [
           10.03
          ],
          [
           9.742
          ],
          [
           13.66
          ],
          [
           11.61
          ],
          [
           11.57
          ],
          [
           11.16
          ],
          [
           12.7
          ],
          [
           9.405
          ],
          [
           12.4
          ],
          [
           14.53
          ],
          [
           12.62
          ],
          [
           13.38
          ],
          [
           11.68
          ],
          [
           14.64
          ],
          [
           15.73
          ],
          [
           13.7
          ],
          [
           13.47
          ],
          [
           13.9
          ],
          [
           12.16
          ],
          [
           11.49
          ],
          [
           13.9
          ],
          [
           14.2
          ],
          [
           12.83
          ],
          [
           10.88
          ],
          [
           12.27
          ],
          [
           14.92
          ],
          [
           12.04
          ],
          [
           9.667
          ],
          [
           11.62
          ],
          [
           9.668
          ],
          [
           13.14
          ],
          [
           13.24
          ],
          [
           13.17
          ],
          [
           11.6
          ],
          [
           14.4
          ],
          [
           9.755
          ],
          [
           13
          ],
          [
           13.21
          ],
          [
           11.63
          ],
          [
           12.25
          ],
          [
           10.48
          ],
          [
           7.76
          ],
          [
           12.05
          ],
          [
           13.15
          ],
          [
           13.05
          ],
          [
           11.15
          ],
          [
           8.618
          ],
          [
           8.219
          ],
          [
           13
          ],
          [
           10.17
          ],
          [
           13.74
          ],
          [
           14.44
          ],
          [
           14.95
          ],
          [
           8.598
          ],
          [
           11.9
          ],
          [
           10.75
          ],
          [
           12.9
          ],
          [
           11.43
          ],
          [
           9.738
          ],
          [
           11.28
          ],
          [
           9.173
          ],
          [
           11.43
          ],
          [
           11.52
          ],
          [
           11.71
          ],
          [
           15.1
          ],
          [
           16.84
          ],
          [
           9.904
          ],
          [
           8.671
          ],
          [
           10.66
          ],
          [
           8.196
          ],
          [
           11.08
          ],
          [
           13.43
          ],
          [
           12.32
          ],
          [
           14.97
          ],
          [
           12.36
          ],
          [
           13.49
          ],
          [
           11.76
          ],
          [
           13.64
          ],
          [
           10.8
          ],
          [
           14.97
          ],
          [
           12.34
          ],
          [
           11.94
          ],
          [
           11.75
          ],
          [
           10.9
          ],
          [
           12.06
          ],
          [
           12.25
          ],
          [
           13.17
          ],
          [
           12.77
          ],
          [
           9.465
          ],
          [
           11.64
          ],
          [
           12.86
          ],
          [
           11.45
          ],
          [
           10.49
          ],
          [
           9.876
          ],
          [
           12.18
          ],
          [
           6.981
          ],
          [
           13.61
          ],
          [
           14.42
          ],
          [
           13.34
          ],
          [
           11.6
          ],
          [
           9.787
          ],
          [
           12.18
          ],
          [
           12
          ],
          [
           13.45
          ],
          [
           13.27
          ],
          [
           15.37
          ],
          [
           14.62
          ],
          [
           14.64
          ],
          [
           12.36
          ],
          [
           15.71
          ],
          [
           11.34
          ],
          [
           12.63
          ],
          [
           11.31
          ],
          [
           12.19
          ],
          [
           15.1
          ],
          [
           13.75
          ],
          [
           13.61
          ],
          [
           12.78
          ],
          [
           13.85
          ],
          [
           13.37
          ],
          [
           14.5
          ],
          [
           8.888
          ],
          [
           11.41
          ],
          [
           17.95
          ],
          [
           13.8
          ],
          [
           12.31
          ],
          [
           8.95
          ],
          [
           11.93
          ],
          [
           8.726
          ],
          [
           10.51
          ],
          [
           13.53
          ],
          [
           9.777
          ],
          [
           13.01
          ],
          [
           14.48
          ],
          [
           12.81
          ],
          [
           14.03
          ],
          [
           9.567
          ],
          [
           12.47
          ],
          [
           15.12
          ],
          [
           9.876
          ],
          [
           17.01
          ],
          [
           13.11
          ],
          [
           15.27
          ],
          [
           16.02
          ],
          [
           11.84
          ],
          [
           11.22
          ],
          [
           11.32
          ],
          [
           10.18
          ],
          [
           15.85
          ],
          [
           12.62
          ],
          [
           11.89
          ],
          [
           10.2
          ],
          [
           9.504
          ],
          [
           15
          ],
          [
           13.08
          ],
          [
           10.44
          ],
          [
           13.54
          ],
          [
           14.34
          ],
          [
           13.65
          ],
          [
           14.68
          ],
          [
           13.56
          ],
          [
           13.28
          ],
          [
           12.91
          ],
          [
           12.23
          ],
          [
           13.27
          ],
          [
           18.31
          ],
          [
           11.81
          ],
          [
           12.3
          ],
          [
           14.99
          ],
          [
           13.03
          ],
          [
           10.08
          ],
          [
           15.28
          ],
          [
           11.71
          ],
          [
           9.72
          ],
          [
           11.41
          ],
          [
           12.77
          ],
          [
           13.44
          ],
          [
           10.95
          ],
          [
           15.7
          ],
          [
           13.64
          ],
          [
           12.42
          ],
          [
           11.3
          ],
          [
           14.22
          ],
          [
           13.48
          ]
         ],
         "hovertemplate": "Cluster=Cluster 0<br>PCA1=%{x}<br>PCA2=%{y}<br>Feature=%{customdata[0]}<extra></extra>",
         "legendgroup": "Cluster 0",
         "marker": {
          "color": "#636efa",
          "opacity": 0.5,
          "symbol": "circle"
         },
         "mode": "markers",
         "name": "Cluster 0",
         "orientation": "v",
         "showlegend": true,
         "textposition": "top center",
         "type": "scatter",
         "x": [
          -1.443513035774231,
          -2.5406768321990967,
          -2.2721633911132812,
          -3.1733238697052,
          -0.8371556401252747,
          -2.447202444076538,
          -2.528778076171875,
          -4.60695219039917,
          -3.2411375045776367,
          -3.0564584732055664,
          -3.2265055179595947,
          0.26198479533195496,
          -1.0619279146194458,
          -2.65647292137146,
          -3.0682103633880615,
          -1.9954694509506226,
          -3.3678603172302246,
          -1.2642850875854492,
          -3.40368390083313,
          -2.5103960037231445,
          -2.23684024810791,
          -2.140805244445801,
          -2.0097179412841797,
          0.21311967074871063,
          -3.116920232772827,
          -2.453462600708008,
          -3.839763879776001,
          -4.070311069488525,
          -0.1709955334663391,
          -3.093656063079834,
          -1.6639493703842163,
          -2.970977783203125,
          -2.967874050140381,
          -2.0232183933258057,
          -1.4231693744659424,
          -1.1966623067855835,
          -2.4039294719696045,
          -3.683506965637207,
          -2.5194599628448486,
          -2.0584325790405273,
          -3.4654347896575928,
          -2.7549567222595215,
          -3.819744110107422,
          -1.9714758396148682,
          -0.5705625414848328,
          -2.957170248031616,
          -2.0665781497955322,
          -3.650801658630371,
          -3.685879945755005,
          -0.577380359172821,
          -3.4540514945983887,
          -2.1197092533111572,
          -0.39749982953071594,
          -2.3488237857818604,
          -0.4843212366104126,
          -1.6255654096603394,
          -3.3311567306518555,
          -1.0034688711166382,
          -4.411618232727051,
          -4.036346435546875,
          -3.2615644931793213,
          -4.646437168121338,
          -3.051039695739746,
          0.28760185837745667,
          -4.335048675537109,
          -0.7709233164787292,
          -4.165294647216797,
          -2.526434898376465,
          -1.9180283546447754,
          -3.516900062561035,
          0.1677418351173401,
          -4.375454902648926,
          -1.3512003421783447,
          0.4863607585430145,
          -0.48357394337654114,
          -3.6864922046661377,
          -4.518396854400635,
          -0.832125186920166,
          -2.335693836212158,
          -2.0636556148529053,
          -1.5395854711532593,
          -1.735307216644287,
          -0.677844226360321,
          0.5858792662620544,
          -3.0742955207824707,
          -2.53853440284729,
          -2.629225492477417,
          0.9209234118461609,
          -3.204296350479126,
          -1.488945484161377,
          -2.912600517272949,
          -3.4027915000915527,
          -3.185105800628662,
          -2.9297826290130615,
          -3.1842875480651855,
          -1.869428038597107,
          -1.3827145099639893,
          -4.060438632965088,
          1.432404637336731,
          -4.7662224769592285,
          -4.883772850036621,
          -3.8312788009643555,
          -4.071202278137207,
          -2.194847345352173,
          -3.3252406120300293,
          -3.3855674266815186,
          -4.050888538360596,
          -4.670558929443359,
          -5.414211273193359,
          -3.879734516143799,
          -3.1162307262420654,
          -3.103653907775879,
          -3.621934175491333,
          -1.525151014328003,
          -3.441694498062134,
          -2.819181442260742,
          -2.2287447452545166,
          -4.798457145690918,
          -3.3494985103607178,
          -0.6062071919441223,
          -3.2642481327056885,
          0.0803830549120903,
          -1.9891294240951538,
          0.246790811419487,
          -3.191739082336426,
          -0.9211142063140869,
          -3.406497001647949,
          -3.301759958267212,
          -0.6931472420692444,
          -4.452544212341309,
          -1.3845124244689941,
          -1.2455029487609863,
          -0.2811221778392792,
          -2.388336181640625,
          -0.5828859210014343,
          -2.515345811843872,
          -1.191297173500061,
          -1.9592565298080444,
          -1.222635269165039,
          -1.3437896966934204,
          -1.3204678297042847,
          0.9368436336517334,
          1.160258173942566,
          -1.4783512353897095,
          -0.6691581010818481,
          -2.5951967239379883,
          -0.3090091943740845,
          -1.5268958806991577,
          -2.8348500728607178,
          -2.8051302433013916,
          -1.5939033031463623,
          -1.8300237655639648,
          -2.7180416584014893,
          -4.883180618286133,
          -0.5531444549560547,
          -1.162188172340393,
          -0.17732687294483185,
          -4.098779678344727,
          -3.9210543632507324,
          -2.118824005126953,
          -2.200390100479126,
          -3.5568504333496094,
          -2.9300403594970703,
          -2.0882375240325928,
          -4.718989849090576,
          -2.6021368503570557,
          -3.876603841781616,
          -2.7399957180023193,
          -4.269161224365234,
          -1.9771435260772705,
          -1.7247036695480347,
          -2.41196346282959,
          -1.3522250652313232,
          0.9195501208305359,
          -1.7444289922714233,
          -1.2411949634552002,
          -4.241178035736084,
          0.2456517517566681,
          0.6630379557609558,
          -2.1995773315429688,
          -4.101849555969238,
          -0.7779441475868225,
          -1.6940586566925049,
          -0.582622230052948,
          -1.1602472066879272,
          -1.3037797212600708,
          -1.6092586517333984,
          -1.3255373239517212,
          -3.942997455596924,
          -3.486626625061035,
          -0.39498209953308105,
          -3.2432186603546143,
          -2.65437388420105,
          -2.1749937534332275,
          -2.290104866027832,
          0.7943137288093567,
          -2.2676687240600586,
          -2.2391772270202637,
          -3.969181776046753,
          -4.683172225952148,
          -2.366544485092163,
          -1.3636125326156616,
          -4.725080490112305,
          -1.9236555099487305,
          -0.44466936588287354,
          -1.7333110570907593,
          -2.074605703353882,
          -3.3809213638305664,
          -2.9684200286865234,
          -2.685279369354248,
          -0.9996467232704163,
          -1.2376514673233032,
          -2.8740177154541016,
          -1.9014884233474731,
          -1.7905640602111816,
          -2.321948528289795,
          -0.1311180293560028,
          -2.2799365520477295,
          -1.3358054161071777,
          -2.5177106857299805,
          -3.025294303894043,
          -2.2632195949554443,
          -3.203347682952881,
          -0.5873441696166992,
          -2.0511221885681152,
          -2.0559566020965576,
          -3.5685408115386963,
          -1.4519346952438354,
          -2.0939552783966064,
          -2.7404842376708984,
          0.5408883094787598,
          -3.8790371417999268,
          -0.4910556972026825,
          1.2639974355697632,
          -2.7936246395111084,
          -3.011369228363037,
          -2.59386944770813,
          -4.113779067993164,
          -3.202645778656006,
          -2.8359384536743164,
          -1.3922126293182373,
          -2.930027723312378,
          -2.3461642265319824,
          -5.489602088928223,
          -2.189408302307129,
          -1.0398743152618408,
          -3.7513129711151123,
          -3.782773733139038,
          -4.180538177490234,
          -0.03506407141685486,
          -1.5058029890060425,
          -2.456688404083252,
          -3.0826847553253174,
          -0.48339375853538513,
          0.2972593903541565,
          -2.6459779739379883,
          -0.8295835256576538,
          -4.37489128112793,
          -1.8915905952453613,
          -2.5115199089050293,
          -5.041952610015869,
          -2.0610013008117676,
          -2.3934874534606934,
          -3.2971229553222656,
          -2.905317783355713,
          -2.6514980792999268,
          -0.5183714628219604,
          -0.807314395904541,
          1.0261657238006592,
          -5.379063129425049,
          -4.6874098777771,
          -4.6178059577941895,
          -3.5401272773742676,
          -0.7934917211532593,
          -2.5668368339538574,
          -2.0233113765716553,
          -1.0048353672027588,
          -1.6179226636886597,
          -3.5761396884918213,
          -3.191798448562622,
          -4.418697834014893,
          -3.02593731880188,
          -1.3969444036483765,
          -3.487884283065796,
          -0.6813578009605408,
          -4.701891899108887,
          -3.6887094974517822,
          -2.467947483062744,
          -0.14805956184864044,
          -1.8168565034866333,
          -2.843256711959839,
          -0.8255117535591125,
          -2.0744025707244873,
          -1.7051596641540527,
          -2.749711751937866,
          -2.1782820224761963,
          -3.476874351501465,
          -4.602290630340576,
          -0.28553617000579834,
          0.7395225167274475,
          1.0660942792892456,
          -2.866734743118286,
          -3.9480996131896973,
          -2.6462740898132324,
          -2.2282729148864746,
          -2.0146796703338623,
          -2.8809895515441895,
          0.38321322202682495,
          -1.638968586921692,
          1.1584562063217163,
          -3.1922428607940674,
          -0.7711116075515747,
          -2.280487060546875,
          -0.19813337922096252,
          -3.55477237701416,
          -1.941947340965271,
          1.3035842180252075,
          -1.9017256498336792,
          -0.4859105050563812,
          -3.299085855484009,
          -3.1755077838897705,
          -2.2556707859039307,
          -0.8409887552261353,
          -0.4417382478713989,
          -3.011160373687744,
          0.9877317547798157,
          -0.22468774020671844,
          -2.674687147140503,
          -2.1865174770355225,
          -2.101045846939087,
          -2.576120376586914,
          -1.4370496273040771,
          -0.9194168448448181,
          -2.5619306564331055,
          -4.97952127456665,
          0.7300174236297607,
          -4.094706058502197,
          -2.377180576324463,
          -4.077015399932861,
          -0.8525380492210388,
          -0.08130665123462677,
          -3.5006165504455566,
          0.5876772403717041,
          0.22774837911128998,
          -2.1009819507598877,
          -0.6513463854789734,
          -3.040235996246338,
          -3.7002005577087402,
          -4.041497707366943,
          -3.0300843715667725,
          0.4722093343734741,
          -1.513559341430664,
          -0.4760739207267761,
          -2.816037893295288,
          -3.60935640335083,
          -0.46009624004364014,
          -1.6396818161010742,
          -3.9318113327026367,
          -1.2998183965682983,
          -0.8904755115509033,
          -2.4216208457946777,
          0.3719785213470459,
          -1.0365912914276123,
          1.1119366884231567,
          -2.8605148792266846,
          -1.5334820747375488,
          -2.520754337310791,
          0.5175678730010986,
          -3.350959539413452,
          -3.3945493698120117,
          -0.8470418453216553,
          -3.7815113067626953,
          -3.929821014404297,
          -0.24203698337078094,
          -2.8800466060638428,
          -5.587277412414551,
          -2.7197306156158447,
          -1.782667875289917,
          -1.9807831048965454,
          0.03519909828901291,
          0.897087574005127,
          -2.27553653717041,
          -4.495960235595703,
          1.2028104066848755,
          -0.7447364926338196,
          0.8900642395019531
         ],
         "xaxis": "x",
         "y": [
          0.024749426171183586,
          -2.0196917057037354,
          -0.3631099462509155,
          -1.5033318996429443,
          -2.1028711795806885,
          -0.2572519779205322,
          -1.1940959692001343,
          -2.787672996520996,
          0.5639631152153015,
          1.6271425485610962,
          -1.8616933822631836,
          2.160203456878662,
          0.820552408695221,
          -1.1109026670455933,
          0.24203860759735107,
          1.4623538255691528,
          0.4537382423877716,
          -1.3032515048980713,
          -0.582611620426178,
          3.447519302368164,
          0.9560448527336121,
          1.8005338907241821,
          2.5410871505737305,
          0.2578354775905609,
          1.1184971332550049,
          0.9861679673194885,
          -0.9337822794914246,
          -1.3789608478546143,
          -0.10519292950630188,
          -2.1984317302703857,
          0.2954557538032532,
          0.3602822422981262,
          -0.5138174891471863,
          -0.17573483288288116,
          0.3878133296966553,
          -1.9479093551635742,
          0.680101752281189,
          -1.2544546127319336,
          -0.3444107174873352,
          -0.28895288705825806,
          -1.0104576349258423,
          -0.22916895151138306,
          -0.3502691984176636,
          -0.640242338180542,
          0.12367536872625351,
          -1.7094477415084839,
          0.4271145761013031,
          2.583798885345459,
          0.7629172801971436,
          3.7319419384002686,
          -2.4572067260742188,
          0.3236960768699646,
          -1.3699756860733032,
          -0.9338439106941223,
          2.179398775100708,
          0.9902978539466858,
          0.1831931620836258,
          2.310033082962036,
          -0.7927518486976624,
          0.9319612383842468,
          1.0858352184295654,
          -1.8668367862701416,
          0.34173327684402466,
          3.7677457332611084,
          -2.002760171890259,
          1.7158708572387695,
          -1.4007282257080078,
          -0.13602232933044434,
          -0.8995925784111023,
          -2.650052785873413,
          -3.5001394748687744,
          -0.3517107367515564,
          0.8670696020126343,
          -3.1862165927886963,
          -0.78878253698349,
          1.5660995244979858,
          -3.196722984313965,
          3.171398639678955,
          0.004212810657918453,
          -1.0984022617340088,
          1.6964529752731323,
          -3.195427417755127,
          -3.5556557178497314,
          0.3501542806625366,
          -0.6608367562294006,
          0.4527861773967743,
          0.7124679684638977,
          2.4012410640716553,
          0.39360925555229187,
          1.3983160257339478,
          -0.2829482853412628,
          -0.8243973255157471,
          -1.7811576128005981,
          -0.4770362973213196,
          -0.7576956152915955,
          0.39666515588760376,
          3.481128215789795,
          -1.416286826133728,
          6.558786869049072,
          -1.8289246559143066,
          -2.3730428218841553,
          4.374854564666748,
          -0.2675911486148834,
          -0.0012545449426397681,
          -3.1490890979766846,
          -0.08991729468107224,
          -2.561427593231201,
          -3.0926849842071533,
          0.5117785930633545,
          -1.548874020576477,
          -0.319764643907547,
          -0.18898098170757294,
          0.8684986233711243,
          0.6047452688217163,
          0.738490879535675,
          -2.540778160095215,
          -0.896541178226471,
          -0.5722211599349976,
          -1.4563958644866943,
          1.283227562904358,
          -1.1867314577102661,
          -0.4099653661251068,
          0.890143632888794,
          1.5839380025863647,
          -0.890346109867096,
          0.1027536690235138,
          2.6468067169189453,
          1.266930103302002,
          0.6531057953834534,
          -0.8200408816337585,
          4.96702241897583,
          1.0198620557785034,
          1.0988346338272095,
          0.782433271408081,
          -1.999063491821289,
          0.5930600166320801,
          -1.393971562385559,
          1.6771197319030762,
          -1.6506158113479614,
          4.12050199508667,
          1.6002236604690552,
          8.32807731628418,
          7.765641689300537,
          1.510462999343872,
          -0.8156048655509949,
          -0.7747141122817993,
          1.5322049856185913,
          -1.5812101364135742,
          -1.0855423212051392,
          -2.1646981239318848,
          0.41243451833724976,
          0.7980008721351624,
          -1.494926929473877,
          -2.16414475440979,
          -0.15584412217140198,
          1.304114580154419,
          -0.18300855159759521,
          0.09707631170749664,
          1.0609097480773926,
          1.6140193939208984,
          -0.8333370685577393,
          1.7850514650344849,
          -1.46468985080719,
          1.2599653005599976,
          -0.7995942831039429,
          0.22120891511440277,
          0.47293904423713684,
          2.303832530975342,
          0.15293949842453003,
          -1.1349356174468994,
          -0.20817223191261292,
          -1.6874430179595947,
          -1.8101918697357178,
          1.1288832426071167,
          2.3982722759246826,
          5.604768753051758,
          2.3333115577697754,
          3.557014226913452,
          0.335269957780838,
          1.5150913000106812,
          -0.5781468152999878,
          -2.164982318878174,
          -4.536125183105469,
          -2.5135412216186523,
          1.8220423460006714,
          -1.5763304233551025,
          -1.0334899425506592,
          1.0749021768569946,
          0.7089238166809082,
          -2.147901773452759,
          2.206825017929077,
          -2.245166063308716,
          -1.8362114429473877,
          -1.1913175582885742,
          -0.4585374593734741,
          0.3868178129196167,
          0.024219390004873276,
          -1.8040393590927124,
          -2.049565553665161,
          -0.8150573372840881,
          0.39503419399261475,
          2.5594642162323,
          -0.47041818499565125,
          2.544095754623413,
          0.1346738487482071,
          0.8646159768104553,
          0.7770313024520874,
          -0.04212148115038872,
          -0.02094551920890808,
          2.4913156032562256,
          2.4928131103515625,
          -0.460574209690094,
          -1.0319205522537231,
          -1.5705313682556152,
          1.0006213188171387,
          -2.4680519104003906,
          -0.20209400355815887,
          -1.3012195825576782,
          0.5147872567176819,
          -2.3671603202819824,
          -0.6874303817749023,
          1.2805358171463013,
          -2.1022145748138428,
          -0.9510716199874878,
          -0.20848262310028076,
          1.8940272331237793,
          -1.2633620500564575,
          -1.76125967502594,
          -0.8979166746139526,
          1.4325581789016724,
          3.4582581520080566,
          0.873232364654541,
          0.13774311542510986,
          2.1544456481933594,
          -1.802668571472168,
          -0.08459968864917755,
          -2.49922251701355,
          -0.5158490538597107,
          -2.091496467590332,
          -1.679221510887146,
          0.7818633317947388,
          -0.9940370917320251,
          2.0730886459350586,
          -0.7156732082366943,
          0.09119298309087753,
          0.9557492733001709,
          -1.8038122653961182,
          0.2280184030532837,
          2.3686492443084717,
          7.166536808013916,
          0.313445508480072,
          2.7530946731567383,
          -2.247321844100952,
          -0.3671736419200897,
          1.1244604587554932,
          3.126748561859131,
          3.721097946166992,
          -0.9199057221412659,
          -0.09211995452642441,
          0.8909318447113037,
          0.533137321472168,
          1.334716796875,
          3.2698585987091064,
          -0.4355629086494446,
          0.14142072200775146,
          -0.4835544228553772,
          -2.1768381595611572,
          -3.0431900024414062,
          7.0656352043151855,
          0.9823476076126099,
          -0.25412702560424805,
          1.4466465711593628,
          1.6071665287017822,
          -1.7458418607711792,
          0.10858326405286789,
          -1.8391849994659424,
          0.9389856457710266,
          -1.2038925886154175,
          -1.2988324165344238,
          -1.7015650272369385,
          -0.023587318137288094,
          -2.7486953735351562,
          1.4775749444961548,
          -0.5166428089141846,
          1.8059896230697632,
          -1.1369718313217163,
          -0.6961813569068909,
          -0.002546386094763875,
          -0.2019069641828537,
          -0.4988701343536377,
          2.2935380935668945,
          1.808260202407837,
          -0.256235271692276,
          1.7157952785491943,
          1.4114689826965332,
          1.841886043548584,
          -1.4453922510147095,
          3.4874348640441895,
          -1.4471924304962158,
          0.5960720181465149,
          2.549548387527466,
          0.3551822304725647,
          1.1655564308166504,
          0.2102346420288086,
          0.4903281033039093,
          -0.9637717604637146,
          -2.8959782123565674,
          -0.5731599926948547,
          -1.6112799644470215,
          1.0634816884994507,
          -1.0550367832183838,
          -1.5467050075531006,
          0.6571638584136963,
          2.310215473175049,
          -0.6764132976531982,
          1.421616554260254,
          1.3559166193008423,
          -1.5748379230499268,
          -0.9781840443611145,
          -0.9516873955726624,
          -1.8907462358474731,
          -0.7325595617294312,
          -0.045821767300367355,
          7.421200275421143,
          0.3544447720050812,
          -2.340036153793335,
          0.0628959983587265,
          -0.7050891518592834,
          3.677917003631592,
          0.301586389541626,
          3.2354419231414795,
          3.5663139820098877,
          1.9853112697601318,
          2.5936522483825684,
          -3.4212777614593506,
          0.12531177699565887,
          -1.2666575908660889,
          -1.3524904251098633,
          1.1337792873382568,
          0.6669455170631409,
          -0.7571868300437927,
          1.2835595607757568,
          -2.8230397701263428,
          2.0981035232543945,
          -2.469254732131958,
          -2.718258857727051,
          -0.4110875725746155,
          -1.319122552871704,
          -1.3839110136032104,
          1.7936657667160034,
          -1.0050667524337769,
          -0.19910673797130585,
          2.2972214221954346,
          1.081960678100586,
          1.6438699960708618,
          -0.591090977191925,
          0.5744469165802002,
          0.5103439092636108,
          -0.17745384573936462,
          -1.2280431985855103,
          -0.7373020052909851,
          -1.6117451190948486,
          0.4512418508529663,
          0.9405328035354614,
          -0.9794085025787354,
          0.12189911305904388,
          -1.4226536750793457,
          -3.618213176727295,
          0.1365181803703308,
          -1.1172771453857422,
          -3.393261194229126,
          -1.4297823905944824,
          0.7911778092384338,
          -1.0498855113983154,
          -0.40948671102523804,
          -0.5151661038398743,
          0.5411079525947571,
          -0.5258543491363525,
          -2.0037615299224854,
          2.1970033645629883,
          -1.6507097482681274,
          -1.2141551971435547,
          -1.7730121612548828,
          4.827637195587158,
          -1.1159504652023315,
          0.8384191393852234
         ],
         "yaxis": "y"
        },
        {
         "customdata": [
          [
           18.46
          ],
          [
           13.73
          ],
          [
           17.2
          ],
          [
           16.6
          ],
          [
           17.08
          ],
          [
           16.07
          ],
          [
           19.17
          ],
          [
           20.57
          ],
          [
           15.22
          ],
          [
           20.92
          ],
          [
           19.69
          ],
          [
           11.42
          ],
          [
           20.29
          ],
          [
           12.45
          ],
          [
           18.25
          ],
          [
           13.71
          ],
          [
           27.42
          ],
          [
           25.22
          ],
          [
           13
          ],
          [
           17.6
          ],
          [
           20.18
          ],
          [
           19.1
          ],
          [
           12.46
          ],
          [
           20.13
          ],
          [
           18.05
          ],
          [
           21.56
          ],
          [
           15.78
          ],
          [
           21.16
          ],
          [
           18.94
          ],
          [
           19.21
          ],
          [
           19.27
          ],
          [
           16.13
          ],
          [
           18.49
          ],
          [
           20.59
          ],
          [
           18.22
          ],
          [
           16.74
          ],
          [
           14.25
          ],
          [
           17.02
          ],
          [
           13.82
          ],
          [
           24.63
          ],
          [
           13.17
          ],
          [
           15.46
          ],
          [
           19.89
          ],
          [
           18.31
          ],
          [
           18.65
          ],
          [
           13.4
          ],
          [
           19.07
          ],
          [
           23.09
          ],
          [
           14.71
          ],
          [
           11.84
          ],
          [
           18.01
          ],
          [
           16.13
          ],
          [
           19.81
          ],
          [
           16.25
          ],
          [
           9.029
          ],
          [
           14.78
          ],
          [
           15.34
          ],
          [
           16.65
          ],
          [
           12.68
          ],
          [
           12.45
          ],
          [
           17.14
          ],
          [
           14.58
          ],
          [
           19.44
          ],
          [
           14.25
          ],
          [
           20.55
          ],
          [
           18.61
          ],
          [
           20.47
          ],
          [
           15.3
          ],
          [
           17.57
          ],
          [
           18.63
          ],
          [
           14.54
          ],
          [
           19.4
          ],
          [
           19
          ],
          [
           19.59
          ],
          [
           14.19
          ],
          [
           17.42
          ],
          [
           28.11
          ],
          [
           20.58
          ],
          [
           19.53
          ],
          [
           20.09
          ],
          [
           13.81
          ],
          [
           23.29
          ],
          [
           17.54
          ],
          [
           14.45
          ],
          [
           19.18
          ],
          [
           18.08
          ],
          [
           13.77
          ],
          [
           14.86
          ],
          [
           12.34
          ],
          [
           18.22
          ],
          [
           14.22
          ],
          [
           20.16
          ],
          [
           20.34
          ],
          [
           16.27
          ],
          [
           16.26
          ],
          [
           16.03
          ],
          [
           21.09
          ],
          [
           14.41
          ],
          [
           13.86
          ],
          [
           19.8
          ],
          [
           19.53
          ],
          [
           17.46
          ],
          [
           20.94
          ],
          [
           20.48
          ],
          [
           19.73
          ],
          [
           17.3
          ],
          [
           19.45
          ],
          [
           23.21
          ],
          [
           19.55
          ],
          [
           15.32
          ],
          [
           15.66
          ],
          [
           15.53
          ],
          [
           27.22
          ],
          [
           20.31
          ],
          [
           17.19
          ],
          [
           20.73
          ],
          [
           20.51
          ],
          [
           17.05
          ],
          [
           12.83
          ],
          [
           21.75
          ],
          [
           15.75
          ],
          [
           19.16
          ],
          [
           19.4
          ],
          [
           16.24
          ],
          [
           20.6
          ],
          [
           17.29
          ],
          [
           17.06
          ],
          [
           18.77
          ],
          [
           16.46
          ],
          [
           18.45
          ],
          [
           17.91
          ],
          [
           16.16
          ],
          [
           15.46
          ],
          [
           19.79
          ],
          [
           17.99
          ],
          [
           24.25
          ],
          [
           18.66
          ],
          [
           15.78
          ],
          [
           15.5
          ],
          [
           14.87
          ],
          [
           14.95
          ],
          [
           14.69
          ],
          [
           22.27
          ],
          [
           14.9
          ],
          [
           20.18
          ],
          [
           18.82
          ],
          [
           13.11
          ],
          [
           17.27
          ],
          [
           18.03
          ],
          [
           17.75
          ],
          [
           20.26
          ],
          [
           15.06
          ],
          [
           21.1
          ],
          [
           14.26
          ],
          [
           19.02
          ],
          [
           21.61
          ],
          [
           19.55
          ],
          [
           23.51
          ],
          [
           19.68
          ],
          [
           15.46
          ],
          [
           17.47
          ],
          [
           16.78
          ],
          [
           15.75
          ],
          [
           25.73
          ],
          [
           15.08
          ],
          [
           23.27
          ],
          [
           19.59
          ],
          [
           19.19
          ],
          [
           15.49
          ],
          [
           17.68
          ],
          [
           20.2
          ],
          [
           21.71
          ],
          [
           22.01
          ],
          [
           16.35
          ],
          [
           21.37
          ],
          [
           20.64
          ],
          [
           9.731
          ],
          [
           10.57
          ],
          [
           11.08
          ],
          [
           11.8
          ],
          [
           16.11
          ],
          [
           20.44
          ],
          [
           17.99
          ]
         ],
         "hovertemplate": "Cluster=Cluster 1<br>PCA1=%{x}<br>PCA2=%{y}<br>Feature=%{customdata[0]}<extra></extra>",
         "legendgroup": "Cluster 1",
         "marker": {
          "color": "#EF553B",
          "opacity": 0.5,
          "symbol": "circle"
         },
         "mode": "markers",
         "name": "Cluster 1",
         "orientation": "v",
         "showlegend": true,
         "textposition": "top center",
         "type": "scatter",
         "x": [
          3.3936426639556885,
          4.405471324920654,
          5.575451850891113,
          1.3844776153564453,
          3.5793404579162598,
          1.5527303218841553,
          8.194849967956543,
          2.513927936553955,
          5.976144313812256,
          8.775616645812988,
          5.808817386627197,
          7.1275224685668945,
          4.02652645111084,
          2.4696204662323,
          2.3653035163879395,
          2.24098801612854,
          16.294532775878906,
          10.79378604888916,
          3.261887788772583,
          5.982157230377197,
          11.641487121582031,
          5.101688861846924,
          6.382627010345459,
          3.9025802612304688,
          6.283471584320068,
          6.512858867645264,
          2.756392240524292,
          4.32703161239624,
          2.829678535461426,
          4.744673252105713,
          5.080908298492432,
          3.087951183319092,
          3.8080668449401855,
          5.183215141296387,
          3.400376081466675,
          2.8767638206481934,
          1.413447618484497,
          4.638724327087402,
          2.8772549629211426,
          8.684741973876953,
          1.808733582496643,
          4.1689653396606445,
          3.4880306720733643,
          2.8124806880950928,
          5.456218242645264,
          2.329402208328247,
          9.102606773376465,
          7.333797454833984,
          2.284696340560913,
          2.9869930744171143,
          3.20470929145813,
          4.4999260902404785,
          5.0509467124938965,
          3.8982367515563965,
          4.14280366897583,
          1.9266570806503296,
          4.794111251831055,
          5.041512966156006,
          1.8039535284042358,
          2.179460287094116,
          7.137729167938232,
          3.6025137901306152,
          4.8457207679748535,
          4.820309162139893,
          5.253005027770996,
          3.166412830352783,
          4.127995491027832,
          4.101907730102539,
          1.8323655128479004,
          6.131123065948486,
          4.1567864418029785,
          3.8911328315734863,
          2.045100688934326,
          2.630983829498291,
          2.603241443634033,
          3.434415102005005,
          12.291388511657715,
          4.897958755493164,
          6.654353618621826,
          7.229223251342773,
          4.631131649017334,
          9.07294750213623,
          1.7767252922058105,
          1.3839290142059326,
          3.5832440853118896,
          1.3993722200393677,
          2.5906479358673096,
          2.7051641941070557,
          1.8834704160690308,
          2.022693634033203,
          6.53898286819458,
          1.9684009552001953,
          7.298549175262451,
          2.363405227661133,
          2.205552101135254,
          1.9011446237564087,
          9.044257164001465,
          2.9756686687469482,
          1.4267494678497314,
          5.034413814544678,
          4.414372444152832,
          3.4667112827301025,
          7.203169345855713,
          2.7677483558654785,
          7.136012554168701,
          1.444919228553772,
          3.821887731552124,
          8.4673490524292,
          6.4639892578125,
          5.306820392608643,
          8.743151664733887,
          3.7932465076446533,
          9.573040008544922,
          3.5005269050598145,
          1.7493213415145874,
          6.7153143882751465,
          3.4366114139556885,
          3.360598087310791,
          2.844305992126465,
          7.733833312988281,
          1.9220980405807495,
          5.051824569702148,
          3.8905553817749023,
          2.7390496730804443,
          10.390026092529297,
          3.3783035278320312,
          3.422281265258789,
          4.768518924713135,
          3.0534310340881348,
          2.2983040809631348,
          6.347303867340088,
          1.4807846546173096,
          1.556950330734253,
          4.736624717712402,
          2.8734512329101562,
          12.85420036315918,
          3.434229850769043,
          5.025828838348389,
          6.063891410827637,
          3.2058284282684326,
          3.8571786880493164,
          1.8684473037719727,
          13.033672332763672,
          5.01182746887207,
          4.636364459991455,
          4.52800989151001,
          3.291600227355957,
          2.5864295959472656,
          1.1166260242462158,
          3.359330415725708,
          4.491243362426758,
          2.8742923736572266,
          4.439297676086426,
          3.4393489360809326,
          3.6937830448150635,
          7.728974342346191,
          4.777044773101807,
          7.432912349700928,
          5.060622692108154,
          2.9135210514068604,
          5.151966094970703,
          1.3405678272247314,
          6.214033126831055,
          10.965341567993164,
          2.22625732421875,
          5.590137481689453,
          6.227792263031006,
          3.486419916152954,
          4.233438014984131,
          4.183952808380127,
          6.293541431427002,
          5.412708759307861,
          7.317936897277832,
          4.291815757751465,
          3.7364535331726074,
          3.634917974472046,
          6.836306095123291,
          1.8988360166549683,
          3.8361656665802,
          2.4817662239074707,
          1.4666874408721924,
          2.8586158752441406,
          9.208813667297363
         ],
         "xaxis": "x",
         "y": [
          -1.6682987213134766,
          4.855653285980225,
          0.9566797614097595,
          -1.9292362928390503,
          -1.6705224514007568,
          -1.9883474111557007,
          2.783207416534424,
          -3.776491165161133,
          3.495465040206909,
          -0.49463313817977905,
          -1.0426571369171143,
          10.296688079833984,
          -1.9282968044281006,
          3.919562816619873,
          -2.7082114219665527,
          2.3142552375793457,
          -7.558818817138672,
          -2.151921272277832,
          3.3696417808532715,
          1.2701996564865112,
          4.859443187713623,
          0.8018290996551514,
          7.736985206604004,
          -3.5712976455688477,
          0.9626409411430359,
          -3.519834518432617,
          0.050648923963308334,
          -5.114699363708496,
          -4.4380693435668945,
          -2.2931416034698486,
          -1.1193842887878418,
          0.7392610311508179,
          -1.048355221748352,
          -1.9953900575637817,
          -1.1267104148864746,
          -0.372446209192276,
          0.8750588297843933,
          0.3467593789100647,
          3.3645083904266357,
          -3.380082607269287,
          2.3120369911193848,
          2.8020753860473633,
          -2.3331267833709717,
          -1.9542756080627441,
          -0.11142363399267197,
          1.9128497838974,
          2.10050630569458,
          -5.423852920532227,
          0.9450615644454956,
          3.9803099632263184,
          -1.234622836112976,
          1.4203544855117798,
          -4.08909273147583,
          2.309375047683716,
          9.28685474395752,
          0.6902434825897217,
          3.316096305847168,
          -1.5283379554748535,
          1.5035924911499023,
          4.45383882522583,
          2.068781852722168,
          2.1533453464508057,
          -1.4736645221710205,
          3.0253913402557373,
          -2.3543732166290283,
          -1.8704222440719604,
          -2.9229204654693604,
          0.5307689905166626,
          -1.540548324584961,
          -0.7231343388557434,
          2.9660189151763916,
          -1.0192469358444214,
          -3.5478415489196777,
          -2.538161277770996,
          2.5916588306427,
          2.606757640838623,
          -7.366559982299805,
          -2.996035099029541,
          -1.4352915287017822,
          0.11416999250650406,
          3.0813844203948975,
          -0.577385425567627,
          -2.1265571117401123,
          0.33596107363700867,
          -2.279017448425293,
          -2.4581241607666016,
          2.2613046169281006,
          1.54718017578125,
          2.7397196292877197,
          -2.414417028427124,
          8.038114547729492,
          -4.334100246429443,
          0.003949933219701052,
          -0.36991122364997864,
          1.1072797775268555,
          -0.29494309425354004,
          0.6457424163818359,
          4.365450382232666,
          2.115863561630249,
          -2.8198165893554688,
          -4.653382778167725,
          -2.1639559268951416,
          -2.0139763355255127,
          -3.9498748779296875,
          0.576219916343689,
          -1.8071852922439575,
          -2.8044016361236572,
          -4.079729080200195,
          -1.7792856693267822,
          3.9128665924072266,
          3.357428550720215,
          1.0458564758300781,
          -5.512946605682373,
          -3.377685308456421,
          -2.5046474933624268,
          -5.9525065422058105,
          -3.9381439685821533,
          -0.1372038573026657,
          3.4407646656036377,
          -3.003715753555298,
          0.13264910876750946,
          -1.3267943859100342,
          -1.9005972146987915,
          0.560563862323761,
          1.7553399801254272,
          -0.9820651412010193,
          -1.5740069150924683,
          -0.9533888697624207,
          0.6952683925628662,
          -2.843329668045044,
          2.0626134872436523,
          -1.1877185106277466,
          -1.080149531364441,
          -1.468651294708252,
          -1.0903011560440063,
          2.4660751819610596,
          -1.3220272064208984,
          2.394139051437378,
          -0.048359379172325134,
          1.5527960062026978,
          0.8770187497138977,
          2.376479148864746,
          1.1180700063705444,
          3.018289089202881,
          -0.8009348511695862,
          -0.9734392166137695,
          4.030067443847656,
          -1.5120108127593994,
          -2.2439756393432617,
          -1.7884889841079712,
          -2.1065382957458496,
          0.5466678142547607,
          -4.0316267013549805,
          4.012157440185547,
          -2.2085607051849365,
          -0.8076106309890747,
          -0.16773195564746857,
          -5.179242134094238,
          -1.3100117444992065,
          1.2519360780715942,
          -1.7554891109466553,
          -2.062974214553833,
          5.1407470703125,
          -3.593066930770874,
          0.2769256830215454,
          -4.132572174072266,
          -1.9810084104537964,
          -2.8921549320220947,
          0.7721301913261414,
          -0.3625108301639557,
          -1.3428983688354492,
          -6.679605960845947,
          -3.5944647789001465,
          1.177078127861023,
          -1.9500360488891602,
          -3.853025197982788,
          12.716200828552246,
          6.4833807945251465,
          5.960971832275391,
          4.8103837966918945,
          -1.2990646362304688,
          -3.9484384059906006,
          2.027580499649048
         ],
         "yaxis": "y"
        }
       ],
       "layout": {
        "height": 600,
        "legend": {
         "title": {
          "text": "Cluster"
         },
         "tracegroupgap": 0
        },
        "margin": {
         "t": 60
        },
        "plot_bgcolor": "rgb(240,240,240)",
        "template": {
         "data": {
          "bar": [
           {
            "error_x": {
             "color": "#2a3f5f"
            },
            "error_y": {
             "color": "#2a3f5f"
            },
            "marker": {
             "line": {
              "color": "#E5ECF6",
              "width": 0.5
             }
            },
            "type": "bar"
           }
          ],
          "barpolar": [
           {
            "marker": {
             "line": {
              "color": "#E5ECF6",
              "width": 0.5
             }
            },
            "type": "barpolar"
           }
          ],
          "carpet": [
           {
            "aaxis": {
             "endlinecolor": "#2a3f5f",
             "gridcolor": "white",
             "linecolor": "white",
             "minorgridcolor": "white",
             "startlinecolor": "#2a3f5f"
            },
            "baxis": {
             "endlinecolor": "#2a3f5f",
             "gridcolor": "white",
             "linecolor": "white",
             "minorgridcolor": "white",
             "startlinecolor": "#2a3f5f"
            },
            "type": "carpet"
           }
          ],
          "choropleth": [
           {
            "colorbar": {
             "outlinewidth": 0,
             "ticks": ""
            },
            "type": "choropleth"
           }
          ],
          "contour": [
           {
            "colorbar": {
             "outlinewidth": 0,
             "ticks": ""
            },
            "colorscale": [
             [
              0,
              "#0d0887"
             ],
             [
              0.1111111111111111,
              "#46039f"
             ],
             [
              0.2222222222222222,
              "#7201a8"
             ],
             [
              0.3333333333333333,
              "#9c179e"
             ],
             [
              0.4444444444444444,
              "#bd3786"
             ],
             [
              0.5555555555555556,
              "#d8576b"
             ],
             [
              0.6666666666666666,
              "#ed7953"
             ],
             [
              0.7777777777777778,
              "#fb9f3a"
             ],
             [
              0.8888888888888888,
              "#fdca26"
             ],
             [
              1,
              "#f0f921"
             ]
            ],
            "type": "contour"
           }
          ],
          "contourcarpet": [
           {
            "colorbar": {
             "outlinewidth": 0,
             "ticks": ""
            },
            "type": "contourcarpet"
           }
          ],
          "heatmap": [
           {
            "colorbar": {
             "outlinewidth": 0,
             "ticks": ""
            },
            "colorscale": [
             [
              0,
              "#0d0887"
             ],
             [
              0.1111111111111111,
              "#46039f"
             ],
             [
              0.2222222222222222,
              "#7201a8"
             ],
             [
              0.3333333333333333,
              "#9c179e"
             ],
             [
              0.4444444444444444,
              "#bd3786"
             ],
             [
              0.5555555555555556,
              "#d8576b"
             ],
             [
              0.6666666666666666,
              "#ed7953"
             ],
             [
              0.7777777777777778,
              "#fb9f3a"
             ],
             [
              0.8888888888888888,
              "#fdca26"
             ],
             [
              1,
              "#f0f921"
             ]
            ],
            "type": "heatmap"
           }
          ],
          "heatmapgl": [
           {
            "colorbar": {
             "outlinewidth": 0,
             "ticks": ""
            },
            "colorscale": [
             [
              0,
              "#0d0887"
             ],
             [
              0.1111111111111111,
              "#46039f"
             ],
             [
              0.2222222222222222,
              "#7201a8"
             ],
             [
              0.3333333333333333,
              "#9c179e"
             ],
             [
              0.4444444444444444,
              "#bd3786"
             ],
             [
              0.5555555555555556,
              "#d8576b"
             ],
             [
              0.6666666666666666,
              "#ed7953"
             ],
             [
              0.7777777777777778,
              "#fb9f3a"
             ],
             [
              0.8888888888888888,
              "#fdca26"
             ],
             [
              1,
              "#f0f921"
             ]
            ],
            "type": "heatmapgl"
           }
          ],
          "histogram": [
           {
            "marker": {
             "colorbar": {
              "outlinewidth": 0,
              "ticks": ""
             }
            },
            "type": "histogram"
           }
          ],
          "histogram2d": [
           {
            "colorbar": {
             "outlinewidth": 0,
             "ticks": ""
            },
            "colorscale": [
             [
              0,
              "#0d0887"
             ],
             [
              0.1111111111111111,
              "#46039f"
             ],
             [
              0.2222222222222222,
              "#7201a8"
             ],
             [
              0.3333333333333333,
              "#9c179e"
             ],
             [
              0.4444444444444444,
              "#bd3786"
             ],
             [
              0.5555555555555556,
              "#d8576b"
             ],
             [
              0.6666666666666666,
              "#ed7953"
             ],
             [
              0.7777777777777778,
              "#fb9f3a"
             ],
             [
              0.8888888888888888,
              "#fdca26"
             ],
             [
              1,
              "#f0f921"
             ]
            ],
            "type": "histogram2d"
           }
          ],
          "histogram2dcontour": [
           {
            "colorbar": {
             "outlinewidth": 0,
             "ticks": ""
            },
            "colorscale": [
             [
              0,
              "#0d0887"
             ],
             [
              0.1111111111111111,
              "#46039f"
             ],
             [
              0.2222222222222222,
              "#7201a8"
             ],
             [
              0.3333333333333333,
              "#9c179e"
             ],
             [
              0.4444444444444444,
              "#bd3786"
             ],
             [
              0.5555555555555556,
              "#d8576b"
             ],
             [
              0.6666666666666666,
              "#ed7953"
             ],
             [
              0.7777777777777778,
              "#fb9f3a"
             ],
             [
              0.8888888888888888,
              "#fdca26"
             ],
             [
              1,
              "#f0f921"
             ]
            ],
            "type": "histogram2dcontour"
           }
          ],
          "mesh3d": [
           {
            "colorbar": {
             "outlinewidth": 0,
             "ticks": ""
            },
            "type": "mesh3d"
           }
          ],
          "parcoords": [
           {
            "line": {
             "colorbar": {
              "outlinewidth": 0,
              "ticks": ""
             }
            },
            "type": "parcoords"
           }
          ],
          "pie": [
           {
            "automargin": true,
            "type": "pie"
           }
          ],
          "scatter": [
           {
            "marker": {
             "colorbar": {
              "outlinewidth": 0,
              "ticks": ""
             }
            },
            "type": "scatter"
           }
          ],
          "scatter3d": [
           {
            "line": {
             "colorbar": {
              "outlinewidth": 0,
              "ticks": ""
             }
            },
            "marker": {
             "colorbar": {
              "outlinewidth": 0,
              "ticks": ""
             }
            },
            "type": "scatter3d"
           }
          ],
          "scattercarpet": [
           {
            "marker": {
             "colorbar": {
              "outlinewidth": 0,
              "ticks": ""
             }
            },
            "type": "scattercarpet"
           }
          ],
          "scattergeo": [
           {
            "marker": {
             "colorbar": {
              "outlinewidth": 0,
              "ticks": ""
             }
            },
            "type": "scattergeo"
           }
          ],
          "scattergl": [
           {
            "marker": {
             "colorbar": {
              "outlinewidth": 0,
              "ticks": ""
             }
            },
            "type": "scattergl"
           }
          ],
          "scattermapbox": [
           {
            "marker": {
             "colorbar": {
              "outlinewidth": 0,
              "ticks": ""
             }
            },
            "type": "scattermapbox"
           }
          ],
          "scatterpolar": [
           {
            "marker": {
             "colorbar": {
              "outlinewidth": 0,
              "ticks": ""
             }
            },
            "type": "scatterpolar"
           }
          ],
          "scatterpolargl": [
           {
            "marker": {
             "colorbar": {
              "outlinewidth": 0,
              "ticks": ""
             }
            },
            "type": "scatterpolargl"
           }
          ],
          "scatterternary": [
           {
            "marker": {
             "colorbar": {
              "outlinewidth": 0,
              "ticks": ""
             }
            },
            "type": "scatterternary"
           }
          ],
          "surface": [
           {
            "colorbar": {
             "outlinewidth": 0,
             "ticks": ""
            },
            "colorscale": [
             [
              0,
              "#0d0887"
             ],
             [
              0.1111111111111111,
              "#46039f"
             ],
             [
              0.2222222222222222,
              "#7201a8"
             ],
             [
              0.3333333333333333,
              "#9c179e"
             ],
             [
              0.4444444444444444,
              "#bd3786"
             ],
             [
              0.5555555555555556,
              "#d8576b"
             ],
             [
              0.6666666666666666,
              "#ed7953"
             ],
             [
              0.7777777777777778,
              "#fb9f3a"
             ],
             [
              0.8888888888888888,
              "#fdca26"
             ],
             [
              1,
              "#f0f921"
             ]
            ],
            "type": "surface"
           }
          ],
          "table": [
           {
            "cells": {
             "fill": {
              "color": "#EBF0F8"
             },
             "line": {
              "color": "white"
             }
            },
            "header": {
             "fill": {
              "color": "#C8D4E3"
             },
             "line": {
              "color": "white"
             }
            },
            "type": "table"
           }
          ]
         },
         "layout": {
          "annotationdefaults": {
           "arrowcolor": "#2a3f5f",
           "arrowhead": 0,
           "arrowwidth": 1
          },
          "coloraxis": {
           "colorbar": {
            "outlinewidth": 0,
            "ticks": ""
           }
          },
          "colorscale": {
           "diverging": [
            [
             0,
             "#8e0152"
            ],
            [
             0.1,
             "#c51b7d"
            ],
            [
             0.2,
             "#de77ae"
            ],
            [
             0.3,
             "#f1b6da"
            ],
            [
             0.4,
             "#fde0ef"
            ],
            [
             0.5,
             "#f7f7f7"
            ],
            [
             0.6,
             "#e6f5d0"
            ],
            [
             0.7,
             "#b8e186"
            ],
            [
             0.8,
             "#7fbc41"
            ],
            [
             0.9,
             "#4d9221"
            ],
            [
             1,
             "#276419"
            ]
           ],
           "sequential": [
            [
             0,
             "#0d0887"
            ],
            [
             0.1111111111111111,
             "#46039f"
            ],
            [
             0.2222222222222222,
             "#7201a8"
            ],
            [
             0.3333333333333333,
             "#9c179e"
            ],
            [
             0.4444444444444444,
             "#bd3786"
            ],
            [
             0.5555555555555556,
             "#d8576b"
            ],
            [
             0.6666666666666666,
             "#ed7953"
            ],
            [
             0.7777777777777778,
             "#fb9f3a"
            ],
            [
             0.8888888888888888,
             "#fdca26"
            ],
            [
             1,
             "#f0f921"
            ]
           ],
           "sequentialminus": [
            [
             0,
             "#0d0887"
            ],
            [
             0.1111111111111111,
             "#46039f"
            ],
            [
             0.2222222222222222,
             "#7201a8"
            ],
            [
             0.3333333333333333,
             "#9c179e"
            ],
            [
             0.4444444444444444,
             "#bd3786"
            ],
            [
             0.5555555555555556,
             "#d8576b"
            ],
            [
             0.6666666666666666,
             "#ed7953"
            ],
            [
             0.7777777777777778,
             "#fb9f3a"
            ],
            [
             0.8888888888888888,
             "#fdca26"
            ],
            [
             1,
             "#f0f921"
            ]
           ]
          },
          "colorway": [
           "#636efa",
           "#EF553B",
           "#00cc96",
           "#ab63fa",
           "#FFA15A",
           "#19d3f3",
           "#FF6692",
           "#B6E880",
           "#FF97FF",
           "#FECB52"
          ],
          "font": {
           "color": "#2a3f5f"
          },
          "geo": {
           "bgcolor": "white",
           "lakecolor": "white",
           "landcolor": "#E5ECF6",
           "showlakes": true,
           "showland": true,
           "subunitcolor": "white"
          },
          "hoverlabel": {
           "align": "left"
          },
          "hovermode": "closest",
          "mapbox": {
           "style": "light"
          },
          "paper_bgcolor": "white",
          "plot_bgcolor": "#E5ECF6",
          "polar": {
           "angularaxis": {
            "gridcolor": "white",
            "linecolor": "white",
            "ticks": ""
           },
           "bgcolor": "#E5ECF6",
           "radialaxis": {
            "gridcolor": "white",
            "linecolor": "white",
            "ticks": ""
           }
          },
          "scene": {
           "xaxis": {
            "backgroundcolor": "#E5ECF6",
            "gridcolor": "white",
            "gridwidth": 2,
            "linecolor": "white",
            "showbackground": true,
            "ticks": "",
            "zerolinecolor": "white"
           },
           "yaxis": {
            "backgroundcolor": "#E5ECF6",
            "gridcolor": "white",
            "gridwidth": 2,
            "linecolor": "white",
            "showbackground": true,
            "ticks": "",
            "zerolinecolor": "white"
           },
           "zaxis": {
            "backgroundcolor": "#E5ECF6",
            "gridcolor": "white",
            "gridwidth": 2,
            "linecolor": "white",
            "showbackground": true,
            "ticks": "",
            "zerolinecolor": "white"
           }
          },
          "shapedefaults": {
           "line": {
            "color": "#2a3f5f"
           }
          },
          "ternary": {
           "aaxis": {
            "gridcolor": "white",
            "linecolor": "white",
            "ticks": ""
           },
           "baxis": {
            "gridcolor": "white",
            "linecolor": "white",
            "ticks": ""
           },
           "bgcolor": "#E5ECF6",
           "caxis": {
            "gridcolor": "white",
            "linecolor": "white",
            "ticks": ""
           }
          },
          "title": {
           "x": 0.05
          },
          "xaxis": {
           "automargin": true,
           "gridcolor": "white",
           "linecolor": "white",
           "ticks": "",
           "title": {
            "standoff": 15
           },
           "zerolinecolor": "white",
           "zerolinewidth": 2
          },
          "yaxis": {
           "automargin": true,
           "gridcolor": "white",
           "linecolor": "white",
           "ticks": "",
           "title": {
            "standoff": 15
           },
           "zerolinecolor": "white",
           "zerolinewidth": 2
          }
         }
        },
        "title": {
         "text": "2D Cluster PCA Plot"
        },
        "xaxis": {
         "anchor": "y",
         "domain": [
          0,
          1
         ],
         "title": {
          "text": "PCA1"
         }
        },
        "yaxis": {
         "anchor": "x",
         "domain": [
          0,
          1
         ],
         "title": {
          "text": "PCA2"
         }
        }
       }
      },
      "text/html": [
       "<div>                            <div id=\"dfd3e9e6-22ca-4199-8d36-a18bdab3fdcc\" class=\"plotly-graph-div\" style=\"height:600px; width:100%;\"></div>            <script type=\"text/javascript\">                require([\"plotly\"], function(Plotly) {                    window.PLOTLYENV=window.PLOTLYENV || {};                                    if (document.getElementById(\"dfd3e9e6-22ca-4199-8d36-a18bdab3fdcc\")) {                    Plotly.newPlot(                        \"dfd3e9e6-22ca-4199-8d36-a18bdab3fdcc\",                        [{\"customdata\": [[12.89], [15.19], [12.21], [13.4], [16.5], [12.76], [13.3], [12.54], [9.436], [8.878], [13.87], [13.05], [12.56], [13.69], [11.14], [11.95], [11.47], [14.76], [12.06], [10.26], [11.71], [11.06], [9.606], [14.42], [10.05], [12.99], [12.3], [11.66], [16.17], [13.46], [13.66], [11.04], [11.36], [12.27], [12.85], [16.14], [10.94], [12.34], [12.94], [12.96], [11.93], [11.8], [11.06], [12.8], [13.51], [14.06], [12.1], [8.734], [10.26], [11.27], [13.88], [12.21], [14.6], [13.28], [12.39], [12.05], [11.04], [11.27], [11.25], [9.397], [11.22], [12.03], [11.37], [11.26], [12.89], [11.94], [12.58], [11.74], [13.85], [13.59], [18.81], [11.33], [11.89], [17.93], [14.96], [9.742], [14.29], [10.71], [12.87], [13.59], [10.6], [15.61], [17.35], [13.96], [11.5], [11.52], [10.65], [12.89], [11.29], [12.95], [11.85], [12.72], [14.11], [12.67], [12.2], [12.86], [10.25], [12.43], [9.042], [12.18], [12.49], [8.597], [11.54], [12.76], [14.61], [11.7], [13.05], [13.5], [9.0], [13.2], [11.6], [11.46], [10.49], [12.46], [10.51], [14.26], [11.76], [10.91], [13.77], [12.98], [13.2], [14.99], [11.89], [13.94], [12.34], [13.46], [8.571], [9.847], [13.71], [11.26], [9.295], [12.75], [12.88], [11.34], [15.05], [12.07], [14.58], [11.74], [16.3], [11.06], [12.22], [9.676], [9.268], [12.54], [15.04], [12.47], [12.65], [14.87], [13.16], [14.81], [11.75], [11.67], [13.68], [11.2], [14.05], [11.51], [14.59], [9.423], [10.16], [10.29], [12.88], [9.333], [12.77], [11.13], [10.86], [10.82], [9.683], [10.26], [10.32], [13.62], [13.87], [13.21], [14.74], [14.47], [11.54], [7.691], [7.729], [11.69], [14.27], [10.96], [12.46], [15.13], [17.85], [16.69], [11.87], [14.53], [14.8], [11.99], [10.57], [13.78], [10.97], [14.02], [13.85], [14.04], [12.87], [13.98], [12.0], [14.86], [12.72], [11.13], [10.8], [10.48], [10.03], [9.742], [13.66], [11.61], [11.57], [11.16], [12.7], [9.405], [12.4], [14.53], [12.62], [13.38], [11.68], [14.64], [15.73], [13.7], [13.47], [13.9], [12.16], [11.49], [13.9], [14.2], [12.83], [10.88], [12.27], [14.92], [12.04], [9.667], [11.62], [9.668], [13.14], [13.24], [13.17], [11.6], [14.4], [9.755], [13.0], [13.21], [11.63], [12.25], [10.48], [7.76], [12.05], [13.15], [13.05], [11.15], [8.618], [8.219], [13.0], [10.17], [13.74], [14.44], [14.95], [8.598], [11.9], [10.75], [12.9], [11.43], [9.738], [11.28], [9.173], [11.43], [11.52], [11.71], [15.1], [16.84], [9.904], [8.671], [10.66], [8.196], [11.08], [13.43], [12.32], [14.97], [12.36], [13.49], [11.76], [13.64], [10.8], [14.97], [12.34], [11.94], [11.75], [10.9], [12.06], [12.25], [13.17], [12.77], [9.465], [11.64], [12.86], [11.45], [10.49], [9.876], [12.18], [6.981], [13.61], [14.42], [13.34], [11.6], [9.787], [12.18], [12.0], [13.45], [13.27], [15.37], [14.62], [14.64], [12.36], [15.71], [11.34], [12.63], [11.31], [12.19], [15.1], [13.75], [13.61], [12.78], [13.85], [13.37], [14.5], [8.888], [11.41], [17.95], [13.8], [12.31], [8.95], [11.93], [8.726], [10.51], [13.53], [9.777], [13.01], [14.48], [12.81], [14.03], [9.567], [12.47], [15.12], [9.876], [17.01], [13.11], [15.27], [16.02], [11.84], [11.22], [11.32], [10.18], [15.85], [12.62], [11.89], [10.2], [9.504], [15.0], [13.08], [10.44], [13.54], [14.34], [13.65], [14.68], [13.56], [13.28], [12.91], [12.23], [13.27], [18.31], [11.81], [12.3], [14.99], [13.03], [10.08], [15.28], [11.71], [9.72], [11.41], [12.77], [13.44], [10.95], [15.7], [13.64], [12.42], [11.3], [14.22], [13.48]], \"hovertemplate\": \"Cluster=Cluster 0<br>PCA1=%{x}<br>PCA2=%{y}<br>Feature=%{customdata[0]}<extra></extra>\", \"legendgroup\": \"Cluster 0\", \"marker\": {\"color\": \"#636efa\", \"opacity\": 0.5, \"symbol\": \"circle\"}, \"mode\": \"markers\", \"name\": \"Cluster 0\", \"orientation\": \"v\", \"showlegend\": true, \"textposition\": \"top center\", \"type\": \"scatter\", \"x\": [-1.443513035774231, -2.5406768321990967, -2.2721633911132812, -3.1733238697052, -0.8371556401252747, -2.447202444076538, -2.528778076171875, -4.60695219039917, -3.2411375045776367, -3.0564584732055664, -3.2265055179595947, 0.26198479533195496, -1.0619279146194458, -2.65647292137146, -3.0682103633880615, -1.9954694509506226, -3.3678603172302246, -1.2642850875854492, -3.40368390083313, -2.5103960037231445, -2.23684024810791, -2.140805244445801, -2.0097179412841797, 0.21311967074871063, -3.116920232772827, -2.453462600708008, -3.839763879776001, -4.070311069488525, -0.1709955334663391, -3.093656063079834, -1.6639493703842163, -2.970977783203125, -2.967874050140381, -2.0232183933258057, -1.4231693744659424, -1.1966623067855835, -2.4039294719696045, -3.683506965637207, -2.5194599628448486, -2.0584325790405273, -3.4654347896575928, -2.7549567222595215, -3.819744110107422, -1.9714758396148682, -0.5705625414848328, -2.957170248031616, -2.0665781497955322, -3.650801658630371, -3.685879945755005, -0.577380359172821, -3.4540514945983887, -2.1197092533111572, -0.39749982953071594, -2.3488237857818604, -0.4843212366104126, -1.6255654096603394, -3.3311567306518555, -1.0034688711166382, -4.411618232727051, -4.036346435546875, -3.2615644931793213, -4.646437168121338, -3.051039695739746, 0.28760185837745667, -4.335048675537109, -0.7709233164787292, -4.165294647216797, -2.526434898376465, -1.9180283546447754, -3.516900062561035, 0.1677418351173401, -4.375454902648926, -1.3512003421783447, 0.4863607585430145, -0.48357394337654114, -3.6864922046661377, -4.518396854400635, -0.832125186920166, -2.335693836212158, -2.0636556148529053, -1.5395854711532593, -1.735307216644287, -0.677844226360321, 0.5858792662620544, -3.0742955207824707, -2.53853440284729, -2.629225492477417, 0.9209234118461609, -3.204296350479126, -1.488945484161377, -2.912600517272949, -3.4027915000915527, -3.185105800628662, -2.9297826290130615, -3.1842875480651855, -1.869428038597107, -1.3827145099639893, -4.060438632965088, 1.432404637336731, -4.7662224769592285, -4.883772850036621, -3.8312788009643555, -4.071202278137207, -2.194847345352173, -3.3252406120300293, -3.3855674266815186, -4.050888538360596, -4.670558929443359, -5.414211273193359, -3.879734516143799, -3.1162307262420654, -3.103653907775879, -3.621934175491333, -1.525151014328003, -3.441694498062134, -2.819181442260742, -2.2287447452545166, -4.798457145690918, -3.3494985103607178, -0.6062071919441223, -3.2642481327056885, 0.0803830549120903, -1.9891294240951538, 0.246790811419487, -3.191739082336426, -0.9211142063140869, -3.406497001647949, -3.301759958267212, -0.6931472420692444, -4.452544212341309, -1.3845124244689941, -1.2455029487609863, -0.2811221778392792, -2.388336181640625, -0.5828859210014343, -2.515345811843872, -1.191297173500061, -1.9592565298080444, -1.222635269165039, -1.3437896966934204, -1.3204678297042847, 0.9368436336517334, 1.160258173942566, -1.4783512353897095, -0.6691581010818481, -2.5951967239379883, -0.3090091943740845, -1.5268958806991577, -2.8348500728607178, -2.8051302433013916, -1.5939033031463623, -1.8300237655639648, -2.7180416584014893, -4.883180618286133, -0.5531444549560547, -1.162188172340393, -0.17732687294483185, -4.098779678344727, -3.9210543632507324, -2.118824005126953, -2.200390100479126, -3.5568504333496094, -2.9300403594970703, -2.0882375240325928, -4.718989849090576, -2.6021368503570557, -3.876603841781616, -2.7399957180023193, -4.269161224365234, -1.9771435260772705, -1.7247036695480347, -2.41196346282959, -1.3522250652313232, 0.9195501208305359, -1.7444289922714233, -1.2411949634552002, -4.241178035736084, 0.2456517517566681, 0.6630379557609558, -2.1995773315429688, -4.101849555969238, -0.7779441475868225, -1.6940586566925049, -0.582622230052948, -1.1602472066879272, -1.3037797212600708, -1.6092586517333984, -1.3255373239517212, -3.942997455596924, -3.486626625061035, -0.39498209953308105, -3.2432186603546143, -2.65437388420105, -2.1749937534332275, -2.290104866027832, 0.7943137288093567, -2.2676687240600586, -2.2391772270202637, -3.969181776046753, -4.683172225952148, -2.366544485092163, -1.3636125326156616, -4.725080490112305, -1.9236555099487305, -0.44466936588287354, -1.7333110570907593, -2.074605703353882, -3.3809213638305664, -2.9684200286865234, -2.685279369354248, -0.9996467232704163, -1.2376514673233032, -2.8740177154541016, -1.9014884233474731, -1.7905640602111816, -2.321948528289795, -0.1311180293560028, -2.2799365520477295, -1.3358054161071777, -2.5177106857299805, -3.025294303894043, -2.2632195949554443, -3.203347682952881, -0.5873441696166992, -2.0511221885681152, -2.0559566020965576, -3.5685408115386963, -1.4519346952438354, -2.0939552783966064, -2.7404842376708984, 0.5408883094787598, -3.8790371417999268, -0.4910556972026825, 1.2639974355697632, -2.7936246395111084, -3.011369228363037, -2.59386944770813, -4.113779067993164, -3.202645778656006, -2.8359384536743164, -1.3922126293182373, -2.930027723312378, -2.3461642265319824, -5.489602088928223, -2.189408302307129, -1.0398743152618408, -3.7513129711151123, -3.782773733139038, -4.180538177490234, -0.03506407141685486, -1.5058029890060425, -2.456688404083252, -3.0826847553253174, -0.48339375853538513, 0.2972593903541565, -2.6459779739379883, -0.8295835256576538, -4.37489128112793, -1.8915905952453613, -2.5115199089050293, -5.041952610015869, -2.0610013008117676, -2.3934874534606934, -3.2971229553222656, -2.905317783355713, -2.6514980792999268, -0.5183714628219604, -0.807314395904541, 1.0261657238006592, -5.379063129425049, -4.6874098777771, -4.6178059577941895, -3.5401272773742676, -0.7934917211532593, -2.5668368339538574, -2.0233113765716553, -1.0048353672027588, -1.6179226636886597, -3.5761396884918213, -3.191798448562622, -4.418697834014893, -3.02593731880188, -1.3969444036483765, -3.487884283065796, -0.6813578009605408, -4.701891899108887, -3.6887094974517822, -2.467947483062744, -0.14805956184864044, -1.8168565034866333, -2.843256711959839, -0.8255117535591125, -2.0744025707244873, -1.7051596641540527, -2.749711751937866, -2.1782820224761963, -3.476874351501465, -4.602290630340576, -0.28553617000579834, 0.7395225167274475, 1.0660942792892456, -2.866734743118286, -3.9480996131896973, -2.6462740898132324, -2.2282729148864746, -2.0146796703338623, -2.8809895515441895, 0.38321322202682495, -1.638968586921692, 1.1584562063217163, -3.1922428607940674, -0.7711116075515747, -2.280487060546875, -0.19813337922096252, -3.55477237701416, -1.941947340965271, 1.3035842180252075, -1.9017256498336792, -0.4859105050563812, -3.299085855484009, -3.1755077838897705, -2.2556707859039307, -0.8409887552261353, -0.4417382478713989, -3.011160373687744, 0.9877317547798157, -0.22468774020671844, -2.674687147140503, -2.1865174770355225, -2.101045846939087, -2.576120376586914, -1.4370496273040771, -0.9194168448448181, -2.5619306564331055, -4.97952127456665, 0.7300174236297607, -4.094706058502197, -2.377180576324463, -4.077015399932861, -0.8525380492210388, -0.08130665123462677, -3.5006165504455566, 0.5876772403717041, 0.22774837911128998, -2.1009819507598877, -0.6513463854789734, -3.040235996246338, -3.7002005577087402, -4.041497707366943, -3.0300843715667725, 0.4722093343734741, -1.513559341430664, -0.4760739207267761, -2.816037893295288, -3.60935640335083, -0.46009624004364014, -1.6396818161010742, -3.9318113327026367, -1.2998183965682983, -0.8904755115509033, -2.4216208457946777, 0.3719785213470459, -1.0365912914276123, 1.1119366884231567, -2.8605148792266846, -1.5334820747375488, -2.520754337310791, 0.5175678730010986, -3.350959539413452, -3.3945493698120117, -0.8470418453216553, -3.7815113067626953, -3.929821014404297, -0.24203698337078094, -2.8800466060638428, -5.587277412414551, -2.7197306156158447, -1.782667875289917, -1.9807831048965454, 0.03519909828901291, 0.897087574005127, -2.27553653717041, -4.495960235595703, 1.2028104066848755, -0.7447364926338196, 0.8900642395019531], \"xaxis\": \"x\", \"y\": [0.024749426171183586, -2.0196917057037354, -0.3631099462509155, -1.5033318996429443, -2.1028711795806885, -0.2572519779205322, -1.1940959692001343, -2.787672996520996, 0.5639631152153015, 1.6271425485610962, -1.8616933822631836, 2.160203456878662, 0.820552408695221, -1.1109026670455933, 0.24203860759735107, 1.4623538255691528, 0.4537382423877716, -1.3032515048980713, -0.582611620426178, 3.447519302368164, 0.9560448527336121, 1.8005338907241821, 2.5410871505737305, 0.2578354775905609, 1.1184971332550049, 0.9861679673194885, -0.9337822794914246, -1.3789608478546143, -0.10519292950630188, -2.1984317302703857, 0.2954557538032532, 0.3602822422981262, -0.5138174891471863, -0.17573483288288116, 0.3878133296966553, -1.9479093551635742, 0.680101752281189, -1.2544546127319336, -0.3444107174873352, -0.28895288705825806, -1.0104576349258423, -0.22916895151138306, -0.3502691984176636, -0.640242338180542, 0.12367536872625351, -1.7094477415084839, 0.4271145761013031, 2.583798885345459, 0.7629172801971436, 3.7319419384002686, -2.4572067260742188, 0.3236960768699646, -1.3699756860733032, -0.9338439106941223, 2.179398775100708, 0.9902978539466858, 0.1831931620836258, 2.310033082962036, -0.7927518486976624, 0.9319612383842468, 1.0858352184295654, -1.8668367862701416, 0.34173327684402466, 3.7677457332611084, -2.002760171890259, 1.7158708572387695, -1.4007282257080078, -0.13602232933044434, -0.8995925784111023, -2.650052785873413, -3.5001394748687744, -0.3517107367515564, 0.8670696020126343, -3.1862165927886963, -0.78878253698349, 1.5660995244979858, -3.196722984313965, 3.171398639678955, 0.004212810657918453, -1.0984022617340088, 1.6964529752731323, -3.195427417755127, -3.5556557178497314, 0.3501542806625366, -0.6608367562294006, 0.4527861773967743, 0.7124679684638977, 2.4012410640716553, 0.39360925555229187, 1.3983160257339478, -0.2829482853412628, -0.8243973255157471, -1.7811576128005981, -0.4770362973213196, -0.7576956152915955, 0.39666515588760376, 3.481128215789795, -1.416286826133728, 6.558786869049072, -1.8289246559143066, -2.3730428218841553, 4.374854564666748, -0.2675911486148834, -0.0012545449426397681, -3.1490890979766846, -0.08991729468107224, -2.561427593231201, -3.0926849842071533, 0.5117785930633545, -1.548874020576477, -0.319764643907547, -0.18898098170757294, 0.8684986233711243, 0.6047452688217163, 0.738490879535675, -2.540778160095215, -0.896541178226471, -0.5722211599349976, -1.4563958644866943, 1.283227562904358, -1.1867314577102661, -0.4099653661251068, 0.890143632888794, 1.5839380025863647, -0.890346109867096, 0.1027536690235138, 2.6468067169189453, 1.266930103302002, 0.6531057953834534, -0.8200408816337585, 4.96702241897583, 1.0198620557785034, 1.0988346338272095, 0.782433271408081, -1.999063491821289, 0.5930600166320801, -1.393971562385559, 1.6771197319030762, -1.6506158113479614, 4.12050199508667, 1.6002236604690552, 8.32807731628418, 7.765641689300537, 1.510462999343872, -0.8156048655509949, -0.7747141122817993, 1.5322049856185913, -1.5812101364135742, -1.0855423212051392, -2.1646981239318848, 0.41243451833724976, 0.7980008721351624, -1.494926929473877, -2.16414475440979, -0.15584412217140198, 1.304114580154419, -0.18300855159759521, 0.09707631170749664, 1.0609097480773926, 1.6140193939208984, -0.8333370685577393, 1.7850514650344849, -1.46468985080719, 1.2599653005599976, -0.7995942831039429, 0.22120891511440277, 0.47293904423713684, 2.303832530975342, 0.15293949842453003, -1.1349356174468994, -0.20817223191261292, -1.6874430179595947, -1.8101918697357178, 1.1288832426071167, 2.3982722759246826, 5.604768753051758, 2.3333115577697754, 3.557014226913452, 0.335269957780838, 1.5150913000106812, -0.5781468152999878, -2.164982318878174, -4.536125183105469, -2.5135412216186523, 1.8220423460006714, -1.5763304233551025, -1.0334899425506592, 1.0749021768569946, 0.7089238166809082, -2.147901773452759, 2.206825017929077, -2.245166063308716, -1.8362114429473877, -1.1913175582885742, -0.4585374593734741, 0.3868178129196167, 0.024219390004873276, -1.8040393590927124, -2.049565553665161, -0.8150573372840881, 0.39503419399261475, 2.5594642162323, -0.47041818499565125, 2.544095754623413, 0.1346738487482071, 0.8646159768104553, 0.7770313024520874, -0.04212148115038872, -0.02094551920890808, 2.4913156032562256, 2.4928131103515625, -0.460574209690094, -1.0319205522537231, -1.5705313682556152, 1.0006213188171387, -2.4680519104003906, -0.20209400355815887, -1.3012195825576782, 0.5147872567176819, -2.3671603202819824, -0.6874303817749023, 1.2805358171463013, -2.1022145748138428, -0.9510716199874878, -0.20848262310028076, 1.8940272331237793, -1.2633620500564575, -1.76125967502594, -0.8979166746139526, 1.4325581789016724, 3.4582581520080566, 0.873232364654541, 0.13774311542510986, 2.1544456481933594, -1.802668571472168, -0.08459968864917755, -2.49922251701355, -0.5158490538597107, -2.091496467590332, -1.679221510887146, 0.7818633317947388, -0.9940370917320251, 2.0730886459350586, -0.7156732082366943, 0.09119298309087753, 0.9557492733001709, -1.8038122653961182, 0.2280184030532837, 2.3686492443084717, 7.166536808013916, 0.313445508480072, 2.7530946731567383, -2.247321844100952, -0.3671736419200897, 1.1244604587554932, 3.126748561859131, 3.721097946166992, -0.9199057221412659, -0.09211995452642441, 0.8909318447113037, 0.533137321472168, 1.334716796875, 3.2698585987091064, -0.4355629086494446, 0.14142072200775146, -0.4835544228553772, -2.1768381595611572, -3.0431900024414062, 7.0656352043151855, 0.9823476076126099, -0.25412702560424805, 1.4466465711593628, 1.6071665287017822, -1.7458418607711792, 0.10858326405286789, -1.8391849994659424, 0.9389856457710266, -1.2038925886154175, -1.2988324165344238, -1.7015650272369385, -0.023587318137288094, -2.7486953735351562, 1.4775749444961548, -0.5166428089141846, 1.8059896230697632, -1.1369718313217163, -0.6961813569068909, -0.002546386094763875, -0.2019069641828537, -0.4988701343536377, 2.2935380935668945, 1.808260202407837, -0.256235271692276, 1.7157952785491943, 1.4114689826965332, 1.841886043548584, -1.4453922510147095, 3.4874348640441895, -1.4471924304962158, 0.5960720181465149, 2.549548387527466, 0.3551822304725647, 1.1655564308166504, 0.2102346420288086, 0.4903281033039093, -0.9637717604637146, -2.8959782123565674, -0.5731599926948547, -1.6112799644470215, 1.0634816884994507, -1.0550367832183838, -1.5467050075531006, 0.6571638584136963, 2.310215473175049, -0.6764132976531982, 1.421616554260254, 1.3559166193008423, -1.5748379230499268, -0.9781840443611145, -0.9516873955726624, -1.8907462358474731, -0.7325595617294312, -0.045821767300367355, 7.421200275421143, 0.3544447720050812, -2.340036153793335, 0.0628959983587265, -0.7050891518592834, 3.677917003631592, 0.301586389541626, 3.2354419231414795, 3.5663139820098877, 1.9853112697601318, 2.5936522483825684, -3.4212777614593506, 0.12531177699565887, -1.2666575908660889, -1.3524904251098633, 1.1337792873382568, 0.6669455170631409, -0.7571868300437927, 1.2835595607757568, -2.8230397701263428, 2.0981035232543945, -2.469254732131958, -2.718258857727051, -0.4110875725746155, -1.319122552871704, -1.3839110136032104, 1.7936657667160034, -1.0050667524337769, -0.19910673797130585, 2.2972214221954346, 1.081960678100586, 1.6438699960708618, -0.591090977191925, 0.5744469165802002, 0.5103439092636108, -0.17745384573936462, -1.2280431985855103, -0.7373020052909851, -1.6117451190948486, 0.4512418508529663, 0.9405328035354614, -0.9794085025787354, 0.12189911305904388, -1.4226536750793457, -3.618213176727295, 0.1365181803703308, -1.1172771453857422, -3.393261194229126, -1.4297823905944824, 0.7911778092384338, -1.0498855113983154, -0.40948671102523804, -0.5151661038398743, 0.5411079525947571, -0.5258543491363525, -2.0037615299224854, 2.1970033645629883, -1.6507097482681274, -1.2141551971435547, -1.7730121612548828, 4.827637195587158, -1.1159504652023315, 0.8384191393852234], \"yaxis\": \"y\"}, {\"customdata\": [[18.46], [13.73], [17.2], [16.6], [17.08], [16.07], [19.17], [20.57], [15.22], [20.92], [19.69], [11.42], [20.29], [12.45], [18.25], [13.71], [27.42], [25.22], [13.0], [17.6], [20.18], [19.1], [12.46], [20.13], [18.05], [21.56], [15.78], [21.16], [18.94], [19.21], [19.27], [16.13], [18.49], [20.59], [18.22], [16.74], [14.25], [17.02], [13.82], [24.63], [13.17], [15.46], [19.89], [18.31], [18.65], [13.4], [19.07], [23.09], [14.71], [11.84], [18.01], [16.13], [19.81], [16.25], [9.029], [14.78], [15.34], [16.65], [12.68], [12.45], [17.14], [14.58], [19.44], [14.25], [20.55], [18.61], [20.47], [15.3], [17.57], [18.63], [14.54], [19.4], [19.0], [19.59], [14.19], [17.42], [28.11], [20.58], [19.53], [20.09], [13.81], [23.29], [17.54], [14.45], [19.18], [18.08], [13.77], [14.86], [12.34], [18.22], [14.22], [20.16], [20.34], [16.27], [16.26], [16.03], [21.09], [14.41], [13.86], [19.8], [19.53], [17.46], [20.94], [20.48], [19.73], [17.3], [19.45], [23.21], [19.55], [15.32], [15.66], [15.53], [27.22], [20.31], [17.19], [20.73], [20.51], [17.05], [12.83], [21.75], [15.75], [19.16], [19.4], [16.24], [20.6], [17.29], [17.06], [18.77], [16.46], [18.45], [17.91], [16.16], [15.46], [19.79], [17.99], [24.25], [18.66], [15.78], [15.5], [14.87], [14.95], [14.69], [22.27], [14.9], [20.18], [18.82], [13.11], [17.27], [18.03], [17.75], [20.26], [15.06], [21.1], [14.26], [19.02], [21.61], [19.55], [23.51], [19.68], [15.46], [17.47], [16.78], [15.75], [25.73], [15.08], [23.27], [19.59], [19.19], [15.49], [17.68], [20.2], [21.71], [22.01], [16.35], [21.37], [20.64], [9.731], [10.57], [11.08], [11.8], [16.11], [20.44], [17.99]], \"hovertemplate\": \"Cluster=Cluster 1<br>PCA1=%{x}<br>PCA2=%{y}<br>Feature=%{customdata[0]}<extra></extra>\", \"legendgroup\": \"Cluster 1\", \"marker\": {\"color\": \"#EF553B\", \"opacity\": 0.5, \"symbol\": \"circle\"}, \"mode\": \"markers\", \"name\": \"Cluster 1\", \"orientation\": \"v\", \"showlegend\": true, \"textposition\": \"top center\", \"type\": \"scatter\", \"x\": [3.3936426639556885, 4.405471324920654, 5.575451850891113, 1.3844776153564453, 3.5793404579162598, 1.5527303218841553, 8.194849967956543, 2.513927936553955, 5.976144313812256, 8.775616645812988, 5.808817386627197, 7.1275224685668945, 4.02652645111084, 2.4696204662323, 2.3653035163879395, 2.24098801612854, 16.294532775878906, 10.79378604888916, 3.261887788772583, 5.982157230377197, 11.641487121582031, 5.101688861846924, 6.382627010345459, 3.9025802612304688, 6.283471584320068, 6.512858867645264, 2.756392240524292, 4.32703161239624, 2.829678535461426, 4.744673252105713, 5.080908298492432, 3.087951183319092, 3.8080668449401855, 5.183215141296387, 3.400376081466675, 2.8767638206481934, 1.413447618484497, 4.638724327087402, 2.8772549629211426, 8.684741973876953, 1.808733582496643, 4.1689653396606445, 3.4880306720733643, 2.8124806880950928, 5.456218242645264, 2.329402208328247, 9.102606773376465, 7.333797454833984, 2.284696340560913, 2.9869930744171143, 3.20470929145813, 4.4999260902404785, 5.0509467124938965, 3.8982367515563965, 4.14280366897583, 1.9266570806503296, 4.794111251831055, 5.041512966156006, 1.8039535284042358, 2.179460287094116, 7.137729167938232, 3.6025137901306152, 4.8457207679748535, 4.820309162139893, 5.253005027770996, 3.166412830352783, 4.127995491027832, 4.101907730102539, 1.8323655128479004, 6.131123065948486, 4.1567864418029785, 3.8911328315734863, 2.045100688934326, 2.630983829498291, 2.603241443634033, 3.434415102005005, 12.291388511657715, 4.897958755493164, 6.654353618621826, 7.229223251342773, 4.631131649017334, 9.07294750213623, 1.7767252922058105, 1.3839290142059326, 3.5832440853118896, 1.3993722200393677, 2.5906479358673096, 2.7051641941070557, 1.8834704160690308, 2.022693634033203, 6.53898286819458, 1.9684009552001953, 7.298549175262451, 2.363405227661133, 2.205552101135254, 1.9011446237564087, 9.044257164001465, 2.9756686687469482, 1.4267494678497314, 5.034413814544678, 4.414372444152832, 3.4667112827301025, 7.203169345855713, 2.7677483558654785, 7.136012554168701, 1.444919228553772, 3.821887731552124, 8.4673490524292, 6.4639892578125, 5.306820392608643, 8.743151664733887, 3.7932465076446533, 9.573040008544922, 3.5005269050598145, 1.7493213415145874, 6.7153143882751465, 3.4366114139556885, 3.360598087310791, 2.844305992126465, 7.733833312988281, 1.9220980405807495, 5.051824569702148, 3.8905553817749023, 2.7390496730804443, 10.390026092529297, 3.3783035278320312, 3.422281265258789, 4.768518924713135, 3.0534310340881348, 2.2983040809631348, 6.347303867340088, 1.4807846546173096, 1.556950330734253, 4.736624717712402, 2.8734512329101562, 12.85420036315918, 3.434229850769043, 5.025828838348389, 6.063891410827637, 3.2058284282684326, 3.8571786880493164, 1.8684473037719727, 13.033672332763672, 5.01182746887207, 4.636364459991455, 4.52800989151001, 3.291600227355957, 2.5864295959472656, 1.1166260242462158, 3.359330415725708, 4.491243362426758, 2.8742923736572266, 4.439297676086426, 3.4393489360809326, 3.6937830448150635, 7.728974342346191, 4.777044773101807, 7.432912349700928, 5.060622692108154, 2.9135210514068604, 5.151966094970703, 1.3405678272247314, 6.214033126831055, 10.965341567993164, 2.22625732421875, 5.590137481689453, 6.227792263031006, 3.486419916152954, 4.233438014984131, 4.183952808380127, 6.293541431427002, 5.412708759307861, 7.317936897277832, 4.291815757751465, 3.7364535331726074, 3.634917974472046, 6.836306095123291, 1.8988360166549683, 3.8361656665802, 2.4817662239074707, 1.4666874408721924, 2.8586158752441406, 9.208813667297363], \"xaxis\": \"x\", \"y\": [-1.6682987213134766, 4.855653285980225, 0.9566797614097595, -1.9292362928390503, -1.6705224514007568, -1.9883474111557007, 2.783207416534424, -3.776491165161133, 3.495465040206909, -0.49463313817977905, -1.0426571369171143, 10.296688079833984, -1.9282968044281006, 3.919562816619873, -2.7082114219665527, 2.3142552375793457, -7.558818817138672, -2.151921272277832, 3.3696417808532715, 1.2701996564865112, 4.859443187713623, 0.8018290996551514, 7.736985206604004, -3.5712976455688477, 0.9626409411430359, -3.519834518432617, 0.050648923963308334, -5.114699363708496, -4.4380693435668945, -2.2931416034698486, -1.1193842887878418, 0.7392610311508179, -1.048355221748352, -1.9953900575637817, -1.1267104148864746, -0.372446209192276, 0.8750588297843933, 0.3467593789100647, 3.3645083904266357, -3.380082607269287, 2.3120369911193848, 2.8020753860473633, -2.3331267833709717, -1.9542756080627441, -0.11142363399267197, 1.9128497838974, 2.10050630569458, -5.423852920532227, 0.9450615644454956, 3.9803099632263184, -1.234622836112976, 1.4203544855117798, -4.08909273147583, 2.309375047683716, 9.28685474395752, 0.6902434825897217, 3.316096305847168, -1.5283379554748535, 1.5035924911499023, 4.45383882522583, 2.068781852722168, 2.1533453464508057, -1.4736645221710205, 3.0253913402557373, -2.3543732166290283, -1.8704222440719604, -2.9229204654693604, 0.5307689905166626, -1.540548324584961, -0.7231343388557434, 2.9660189151763916, -1.0192469358444214, -3.5478415489196777, -2.538161277770996, 2.5916588306427, 2.606757640838623, -7.366559982299805, -2.996035099029541, -1.4352915287017822, 0.11416999250650406, 3.0813844203948975, -0.577385425567627, -2.1265571117401123, 0.33596107363700867, -2.279017448425293, -2.4581241607666016, 2.2613046169281006, 1.54718017578125, 2.7397196292877197, -2.414417028427124, 8.038114547729492, -4.334100246429443, 0.003949933219701052, -0.36991122364997864, 1.1072797775268555, -0.29494309425354004, 0.6457424163818359, 4.365450382232666, 2.115863561630249, -2.8198165893554688, -4.653382778167725, -2.1639559268951416, -2.0139763355255127, -3.9498748779296875, 0.576219916343689, -1.8071852922439575, -2.8044016361236572, -4.079729080200195, -1.7792856693267822, 3.9128665924072266, 3.357428550720215, 1.0458564758300781, -5.512946605682373, -3.377685308456421, -2.5046474933624268, -5.9525065422058105, -3.9381439685821533, -0.1372038573026657, 3.4407646656036377, -3.003715753555298, 0.13264910876750946, -1.3267943859100342, -1.9005972146987915, 0.560563862323761, 1.7553399801254272, -0.9820651412010193, -1.5740069150924683, -0.9533888697624207, 0.6952683925628662, -2.843329668045044, 2.0626134872436523, -1.1877185106277466, -1.080149531364441, -1.468651294708252, -1.0903011560440063, 2.4660751819610596, -1.3220272064208984, 2.394139051437378, -0.048359379172325134, 1.5527960062026978, 0.8770187497138977, 2.376479148864746, 1.1180700063705444, 3.018289089202881, -0.8009348511695862, -0.9734392166137695, 4.030067443847656, -1.5120108127593994, -2.2439756393432617, -1.7884889841079712, -2.1065382957458496, 0.5466678142547607, -4.0316267013549805, 4.012157440185547, -2.2085607051849365, -0.8076106309890747, -0.16773195564746857, -5.179242134094238, -1.3100117444992065, 1.2519360780715942, -1.7554891109466553, -2.062974214553833, 5.1407470703125, -3.593066930770874, 0.2769256830215454, -4.132572174072266, -1.9810084104537964, -2.8921549320220947, 0.7721301913261414, -0.3625108301639557, -1.3428983688354492, -6.679605960845947, -3.5944647789001465, 1.177078127861023, -1.9500360488891602, -3.853025197982788, 12.716200828552246, 6.4833807945251465, 5.960971832275391, 4.8103837966918945, -1.2990646362304688, -3.9484384059906006, 2.027580499649048], \"yaxis\": \"y\"}],                        {\"height\": 600, \"legend\": {\"title\": {\"text\": \"Cluster\"}, \"tracegroupgap\": 0}, \"margin\": {\"t\": 60}, \"plot_bgcolor\": \"rgb(240,240,240)\", \"template\": {\"data\": {\"bar\": [{\"error_x\": {\"color\": \"#2a3f5f\"}, \"error_y\": {\"color\": \"#2a3f5f\"}, \"marker\": {\"line\": {\"color\": \"#E5ECF6\", \"width\": 0.5}}, \"type\": \"bar\"}], \"barpolar\": [{\"marker\": {\"line\": {\"color\": \"#E5ECF6\", \"width\": 0.5}}, \"type\": \"barpolar\"}], \"carpet\": [{\"aaxis\": {\"endlinecolor\": \"#2a3f5f\", \"gridcolor\": \"white\", \"linecolor\": \"white\", \"minorgridcolor\": \"white\", \"startlinecolor\": \"#2a3f5f\"}, \"baxis\": {\"endlinecolor\": \"#2a3f5f\", \"gridcolor\": \"white\", \"linecolor\": \"white\", \"minorgridcolor\": \"white\", \"startlinecolor\": \"#2a3f5f\"}, \"type\": \"carpet\"}], \"choropleth\": [{\"colorbar\": {\"outlinewidth\": 0, \"ticks\": \"\"}, \"type\": \"choropleth\"}], \"contour\": [{\"colorbar\": {\"outlinewidth\": 0, \"ticks\": \"\"}, \"colorscale\": [[0.0, \"#0d0887\"], [0.1111111111111111, \"#46039f\"], [0.2222222222222222, \"#7201a8\"], [0.3333333333333333, \"#9c179e\"], [0.4444444444444444, \"#bd3786\"], [0.5555555555555556, \"#d8576b\"], [0.6666666666666666, \"#ed7953\"], [0.7777777777777778, \"#fb9f3a\"], [0.8888888888888888, \"#fdca26\"], [1.0, \"#f0f921\"]], \"type\": \"contour\"}], \"contourcarpet\": [{\"colorbar\": {\"outlinewidth\": 0, \"ticks\": \"\"}, \"type\": \"contourcarpet\"}], \"heatmap\": [{\"colorbar\": {\"outlinewidth\": 0, \"ticks\": \"\"}, \"colorscale\": [[0.0, \"#0d0887\"], [0.1111111111111111, \"#46039f\"], [0.2222222222222222, \"#7201a8\"], [0.3333333333333333, \"#9c179e\"], [0.4444444444444444, \"#bd3786\"], [0.5555555555555556, \"#d8576b\"], [0.6666666666666666, \"#ed7953\"], [0.7777777777777778, \"#fb9f3a\"], [0.8888888888888888, \"#fdca26\"], [1.0, \"#f0f921\"]], \"type\": \"heatmap\"}], \"heatmapgl\": [{\"colorbar\": {\"outlinewidth\": 0, \"ticks\": \"\"}, \"colorscale\": [[0.0, \"#0d0887\"], [0.1111111111111111, \"#46039f\"], [0.2222222222222222, \"#7201a8\"], [0.3333333333333333, \"#9c179e\"], [0.4444444444444444, \"#bd3786\"], [0.5555555555555556, \"#d8576b\"], [0.6666666666666666, \"#ed7953\"], [0.7777777777777778, \"#fb9f3a\"], [0.8888888888888888, \"#fdca26\"], [1.0, \"#f0f921\"]], \"type\": \"heatmapgl\"}], \"histogram\": [{\"marker\": {\"colorbar\": {\"outlinewidth\": 0, \"ticks\": \"\"}}, \"type\": \"histogram\"}], \"histogram2d\": [{\"colorbar\": {\"outlinewidth\": 0, \"ticks\": \"\"}, \"colorscale\": [[0.0, \"#0d0887\"], [0.1111111111111111, \"#46039f\"], [0.2222222222222222, \"#7201a8\"], [0.3333333333333333, \"#9c179e\"], [0.4444444444444444, \"#bd3786\"], [0.5555555555555556, \"#d8576b\"], [0.6666666666666666, \"#ed7953\"], [0.7777777777777778, \"#fb9f3a\"], [0.8888888888888888, \"#fdca26\"], [1.0, \"#f0f921\"]], \"type\": \"histogram2d\"}], \"histogram2dcontour\": [{\"colorbar\": {\"outlinewidth\": 0, \"ticks\": \"\"}, \"colorscale\": [[0.0, \"#0d0887\"], [0.1111111111111111, \"#46039f\"], [0.2222222222222222, \"#7201a8\"], [0.3333333333333333, \"#9c179e\"], [0.4444444444444444, \"#bd3786\"], [0.5555555555555556, \"#d8576b\"], [0.6666666666666666, \"#ed7953\"], [0.7777777777777778, \"#fb9f3a\"], [0.8888888888888888, \"#fdca26\"], [1.0, \"#f0f921\"]], \"type\": \"histogram2dcontour\"}], \"mesh3d\": [{\"colorbar\": {\"outlinewidth\": 0, \"ticks\": \"\"}, \"type\": \"mesh3d\"}], \"parcoords\": [{\"line\": {\"colorbar\": {\"outlinewidth\": 0, \"ticks\": \"\"}}, \"type\": \"parcoords\"}], \"pie\": [{\"automargin\": true, \"type\": \"pie\"}], \"scatter\": [{\"marker\": {\"colorbar\": {\"outlinewidth\": 0, \"ticks\": \"\"}}, \"type\": \"scatter\"}], \"scatter3d\": [{\"line\": {\"colorbar\": {\"outlinewidth\": 0, \"ticks\": \"\"}}, \"marker\": {\"colorbar\": {\"outlinewidth\": 0, \"ticks\": \"\"}}, \"type\": \"scatter3d\"}], \"scattercarpet\": [{\"marker\": {\"colorbar\": {\"outlinewidth\": 0, \"ticks\": \"\"}}, \"type\": \"scattercarpet\"}], \"scattergeo\": [{\"marker\": {\"colorbar\": {\"outlinewidth\": 0, \"ticks\": \"\"}}, \"type\": \"scattergeo\"}], \"scattergl\": [{\"marker\": {\"colorbar\": {\"outlinewidth\": 0, \"ticks\": \"\"}}, \"type\": \"scattergl\"}], \"scattermapbox\": [{\"marker\": {\"colorbar\": {\"outlinewidth\": 0, \"ticks\": \"\"}}, \"type\": \"scattermapbox\"}], \"scatterpolar\": [{\"marker\": {\"colorbar\": {\"outlinewidth\": 0, \"ticks\": \"\"}}, \"type\": \"scatterpolar\"}], \"scatterpolargl\": [{\"marker\": {\"colorbar\": {\"outlinewidth\": 0, \"ticks\": \"\"}}, \"type\": \"scatterpolargl\"}], \"scatterternary\": [{\"marker\": {\"colorbar\": {\"outlinewidth\": 0, \"ticks\": \"\"}}, \"type\": \"scatterternary\"}], \"surface\": [{\"colorbar\": {\"outlinewidth\": 0, \"ticks\": \"\"}, \"colorscale\": [[0.0, \"#0d0887\"], [0.1111111111111111, \"#46039f\"], [0.2222222222222222, \"#7201a8\"], [0.3333333333333333, \"#9c179e\"], [0.4444444444444444, \"#bd3786\"], [0.5555555555555556, \"#d8576b\"], [0.6666666666666666, \"#ed7953\"], [0.7777777777777778, \"#fb9f3a\"], [0.8888888888888888, \"#fdca26\"], [1.0, \"#f0f921\"]], \"type\": \"surface\"}], \"table\": [{\"cells\": {\"fill\": {\"color\": \"#EBF0F8\"}, \"line\": {\"color\": \"white\"}}, \"header\": {\"fill\": {\"color\": \"#C8D4E3\"}, \"line\": {\"color\": \"white\"}}, \"type\": \"table\"}]}, \"layout\": {\"annotationdefaults\": {\"arrowcolor\": \"#2a3f5f\", \"arrowhead\": 0, \"arrowwidth\": 1}, \"coloraxis\": {\"colorbar\": {\"outlinewidth\": 0, \"ticks\": \"\"}}, \"colorscale\": {\"diverging\": [[0, \"#8e0152\"], [0.1, \"#c51b7d\"], [0.2, \"#de77ae\"], [0.3, \"#f1b6da\"], [0.4, \"#fde0ef\"], [0.5, \"#f7f7f7\"], [0.6, \"#e6f5d0\"], [0.7, \"#b8e186\"], [0.8, \"#7fbc41\"], [0.9, \"#4d9221\"], [1, \"#276419\"]], \"sequential\": [[0.0, \"#0d0887\"], [0.1111111111111111, \"#46039f\"], [0.2222222222222222, \"#7201a8\"], [0.3333333333333333, \"#9c179e\"], [0.4444444444444444, \"#bd3786\"], [0.5555555555555556, \"#d8576b\"], [0.6666666666666666, \"#ed7953\"], [0.7777777777777778, \"#fb9f3a\"], [0.8888888888888888, \"#fdca26\"], [1.0, \"#f0f921\"]], \"sequentialminus\": [[0.0, \"#0d0887\"], [0.1111111111111111, \"#46039f\"], [0.2222222222222222, \"#7201a8\"], [0.3333333333333333, \"#9c179e\"], [0.4444444444444444, \"#bd3786\"], [0.5555555555555556, \"#d8576b\"], [0.6666666666666666, \"#ed7953\"], [0.7777777777777778, \"#fb9f3a\"], [0.8888888888888888, \"#fdca26\"], [1.0, \"#f0f921\"]]}, \"colorway\": [\"#636efa\", \"#EF553B\", \"#00cc96\", \"#ab63fa\", \"#FFA15A\", \"#19d3f3\", \"#FF6692\", \"#B6E880\", \"#FF97FF\", \"#FECB52\"], \"font\": {\"color\": \"#2a3f5f\"}, \"geo\": {\"bgcolor\": \"white\", \"lakecolor\": \"white\", \"landcolor\": \"#E5ECF6\", \"showlakes\": true, \"showland\": true, \"subunitcolor\": \"white\"}, \"hoverlabel\": {\"align\": \"left\"}, \"hovermode\": \"closest\", \"mapbox\": {\"style\": \"light\"}, \"paper_bgcolor\": \"white\", \"plot_bgcolor\": \"#E5ECF6\", \"polar\": {\"angularaxis\": {\"gridcolor\": \"white\", \"linecolor\": \"white\", \"ticks\": \"\"}, \"bgcolor\": \"#E5ECF6\", \"radialaxis\": {\"gridcolor\": \"white\", \"linecolor\": \"white\", \"ticks\": \"\"}}, \"scene\": {\"xaxis\": {\"backgroundcolor\": \"#E5ECF6\", \"gridcolor\": \"white\", \"gridwidth\": 2, \"linecolor\": \"white\", \"showbackground\": true, \"ticks\": \"\", \"zerolinecolor\": \"white\"}, \"yaxis\": {\"backgroundcolor\": \"#E5ECF6\", \"gridcolor\": \"white\", \"gridwidth\": 2, \"linecolor\": \"white\", \"showbackground\": true, \"ticks\": \"\", \"zerolinecolor\": \"white\"}, \"zaxis\": {\"backgroundcolor\": \"#E5ECF6\", \"gridcolor\": \"white\", \"gridwidth\": 2, \"linecolor\": \"white\", \"showbackground\": true, \"ticks\": \"\", \"zerolinecolor\": \"white\"}}, \"shapedefaults\": {\"line\": {\"color\": \"#2a3f5f\"}}, \"ternary\": {\"aaxis\": {\"gridcolor\": \"white\", \"linecolor\": \"white\", \"ticks\": \"\"}, \"baxis\": {\"gridcolor\": \"white\", \"linecolor\": \"white\", \"ticks\": \"\"}, \"bgcolor\": \"#E5ECF6\", \"caxis\": {\"gridcolor\": \"white\", \"linecolor\": \"white\", \"ticks\": \"\"}}, \"title\": {\"x\": 0.05}, \"xaxis\": {\"automargin\": true, \"gridcolor\": \"white\", \"linecolor\": \"white\", \"ticks\": \"\", \"title\": {\"standoff\": 15}, \"zerolinecolor\": \"white\", \"zerolinewidth\": 2}, \"yaxis\": {\"automargin\": true, \"gridcolor\": \"white\", \"linecolor\": \"white\", \"ticks\": \"\", \"title\": {\"standoff\": 15}, \"zerolinecolor\": \"white\", \"zerolinewidth\": 2}}}, \"title\": {\"text\": \"2D Cluster PCA Plot\"}, \"xaxis\": {\"anchor\": \"y\", \"domain\": [0.0, 1.0], \"title\": {\"text\": \"PCA1\"}}, \"yaxis\": {\"anchor\": \"x\", \"domain\": [0.0, 1.0], \"title\": {\"text\": \"PCA2\"}}},                        {\"responsive\": true}                    ).then(function(){\n",
       "                            \n",
       "var gd = document.getElementById('dfd3e9e6-22ca-4199-8d36-a18bdab3fdcc');\n",
       "var x = new MutationObserver(function (mutations, observer) {{\n",
       "        var display = window.getComputedStyle(gd).display;\n",
       "        if (!display || display === 'none') {{\n",
       "            console.log([gd, 'removed!']);\n",
       "            Plotly.purge(gd);\n",
       "            observer.disconnect();\n",
       "        }}\n",
       "}});\n",
       "\n",
       "// Listen for the removal of the full notebook cells\n",
       "var notebookContainer = gd.closest('#notebook-container');\n",
       "if (notebookContainer) {{\n",
       "    x.observe(notebookContainer, {childList: true});\n",
       "}}\n",
       "\n",
       "// Listen for the clearing of the current output cell\n",
       "var outputEl = gd.closest('.output');\n",
       "if (outputEl) {{\n",
       "    x.observe(outputEl, {childList: true});\n",
       "}}\n",
       "\n",
       "                        })                };                });            </script>        </div>"
      ]
     },
     "metadata": {},
     "output_type": "display_data"
    }
   ],
   "source": [
    "\n",
    "# 绘制聚类可视化结果 \n",
    "plot_model(kmeans, plot = 'cluster',scale =1 )"
   ]
  },
  {
   "cell_type": "code",
   "execution_count": 15,
   "metadata": {
    "ExecuteTime": {
     "end_time": "2021-11-15T13:13:22.619701Z",
     "start_time": "2021-11-15T13:13:22.607703Z"
    }
   },
   "outputs": [],
   "source": [
    "# 应用模型进行预测\n",
    "k_df = assign_model(kmeans)"
   ]
  },
  {
   "cell_type": "code",
   "execution_count": 16,
   "metadata": {
    "ExecuteTime": {
     "end_time": "2021-11-15T13:13:44.827236Z",
     "start_time": "2021-11-15T13:13:44.817237Z"
    }
   },
   "outputs": [
    {
     "data": {
      "text/plain": [
       "0.9876977152899824"
      ]
     },
     "execution_count": 16,
     "metadata": {},
     "output_type": "execute_result"
    }
   ],
   "source": [
    "#计算聚类结果的正确性（）\n",
    "cluster_result = [ ]\n",
    "for i in k_df.Cluster:\n",
    "    if i=='Cluster 1':\n",
    "        cluster_result.append(1)\n",
    "    else:\n",
    "        cluster_result.append(0)\n",
    "\n",
    "acc_cluster = np.array(cluster_result)*np.array(k_df.type)\n",
    "len(acc_cluster[acc_cluster==0])/len(acc_cluster)"
   ]
  }
 ],
 "metadata": {
  "kernelspec": {
   "display_name": "Python 3",
   "language": "python",
   "name": "python3"
  },
  "language_info": {
   "codemirror_mode": {
    "name": "ipython",
    "version": 3
   },
   "file_extension": ".py",
   "mimetype": "text/x-python",
   "name": "python",
   "nbconvert_exporter": "python",
   "pygments_lexer": "ipython3",
   "version": "3.7.3"
  },
  "toc": {
   "base_numbering": 1,
   "nav_menu": {},
   "number_sections": true,
   "sideBar": true,
   "skip_h1_title": false,
   "title_cell": "Table of Contents",
   "title_sidebar": "Contents",
   "toc_cell": false,
   "toc_position": {},
   "toc_section_display": true,
   "toc_window_display": false
  }
 },
 "nbformat": 4,
 "nbformat_minor": 5
}
